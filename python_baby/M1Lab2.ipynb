{
  "cells": [
    {
      "cell_type": "markdown",
      "metadata": {
        "id": "cnAUJprJdh9_"
      },
      "source": [
        "# Welcome to our Lab Practice!"
      ]
    },
    {
      "cell_type": "markdown",
      "metadata": {},
      "source": [
        "Activity Provider: University of Colorado, Boulder"
      ]
    },
    {
      "cell_type": "markdown",
      "metadata": {
        "id": "vVYcayGedmms"
      },
      "source": [
        "This lab is all about **input()** and we are going to get all kinds of information from the user (you) and print the respnose on the screen. Are you ready? Let's get started!"
      ]
    },
    {
      "cell_type": "markdown",
      "metadata": {
        "id": "JP8eGBVyeSQx"
      },
      "source": [
        "You will find some small tasks in sections below. You should use input() to get the user to enter the information and use print() to print the information on the screen."
      ]
    },
    {
      "cell_type": "markdown",
      "metadata": {
        "id": "TNbXeCDFeAcJ"
      },
      "source": [
        "## Ask for names"
      ]
    },
    {
      "cell_type": "markdown",
      "metadata": {
        "id": "EZ42d1Sue0Zp"
      },
      "source": [
        "###Task: Ask **\"What's your name?\"** and print the input on the screen"
      ]
    },
    {
      "cell_type": "code",
      "execution_count": 3,
      "metadata": {
        "colab": {
          "base_uri": "https://localhost:8080/"
        },
        "id": "yDzNIHsSeu85",
        "outputId": "11e3b90a-60ad-4f8f-c139-01ba26d89b53"
      },
      "outputs": [
        {
          "name": "stdout",
          "output_type": "stream",
          "text": [
            "What's your name? Erica\n",
            "Erica\n"
          ]
        }
      ],
      "source": [
        "# type your code here\n",
        "print(input(\"What's your name? \"))\n"
      ]
    },
    {
      "cell_type": "markdown",
      "metadata": {
        "id": "-__o8ovbfSEH"
      },
      "source": [
        "###Task: Ask **\"How do you feel so far? Enter 1 for Good; 2 for very good.\"** and print the input on the screen"
      ]
    },
    {
      "cell_type": "code",
      "execution_count": 5,
      "metadata": {
        "colab": {
          "base_uri": "https://localhost:8080/"
        },
        "id": "hOpxhSKog18Y",
        "outputId": "f3b9db95-6f6f-42ca-ef2e-7e2edbda3609"
      },
      "outputs": [
        {
          "name": "stdout",
          "output_type": "stream",
          "text": [
            "How do you feel so far? Enter 1 for Good; 2 for very good 1\n",
            "1\n"
          ]
        }
      ],
      "source": [
        "# your code will be here\n",
        "print(input(\"How do you feel so far? Enter 1 for Good; 2 for very good \"))"
      ]
    },
    {
      "cell_type": "markdown",
      "metadata": {
        "id": "NpCNxK68gpME"
      },
      "source": [
        "###Task: Ask **\"Are you ready to learn more? Enter Yes or No.\"** and print the input on the screen"
      ]
    },
    {
      "cell_type": "code",
      "execution_count": 6,
      "metadata": {
        "colab": {
          "base_uri": "https://localhost:8080/"
        },
        "id": "txg-7uKfgKeW",
        "outputId": "2f7b9b74-45e2-49ab-d750-8d6ac3c5560b"
      },
      "outputs": [
        {
          "name": "stdout",
          "output_type": "stream",
          "text": [
            "Are you ready to learn more? Enter Yes or No.Yes\n",
            "Yes\n"
          ]
        }
      ],
      "source": [
        "# your code will be here\n",
        "print(input( \"Are you ready to learn more? Enter Yes or No.\" ))\n"
      ]
    },
    {
      "cell_type": "markdown",
      "metadata": {
        "id": "D8pWdoN7d6Dy"
      },
      "source": [
        "## Ask for numbers"
      ]
    },
    {
      "cell_type": "markdown",
      "metadata": {
        "id": "rXgbUIBRgQoG"
      },
      "source": [
        "###Task: Ask **\"How old are you?\"** and print the input on the screen"
      ]
    },
    {
      "cell_type": "code",
      "execution_count": 8,
      "metadata": {
        "colab": {
          "base_uri": "https://localhost:8080/"
        },
        "id": "oIKwmW2mfe3d",
        "outputId": "15bf4c72-7477-438b-ef28-58436f51a5be"
      },
      "outputs": [
        {
          "name": "stdout",
          "output_type": "stream",
          "text": [
            "How old are you? 20's\n",
            "20's\n"
          ]
        }
      ],
      "source": [
        "# your code will be here\n",
        "print(input(\"How old are you? \"))\n"
      ]
    },
    {
      "cell_type": "markdown",
      "metadata": {
        "id": "QPoCScdkheK3"
      },
      "source": [
        "###Task: Ask **\"Which number is your lucky number?\"** and print the input on the screen"
      ]
    },
    {
      "cell_type": "code",
      "execution_count": 10,
      "metadata": {
        "colab": {
          "base_uri": "https://localhost:8080/"
        },
        "id": "tsFowDAKhJCB",
        "outputId": "96d1049d-9a01-4585-b5af-e553caa41b15"
      },
      "outputs": [
        {
          "name": "stdout",
          "output_type": "stream",
          "text": [
            "Which number is your lucky number? 8\n",
            "8\n"
          ]
        }
      ],
      "source": [
        "# your code will be here\n",
        "print(input( \"Which number is your lucky number? \" ))"
      ]
    },
    {
      "cell_type": "markdown",
      "metadata": {
        "id": "TE6Df1WYhu10"
      },
      "source": [
        "###Task: Ask **\"What date is today? yyyymmdd\"** and print the input on the screen"
      ]
    },
    {
      "cell_type": "code",
      "execution_count": 11,
      "metadata": {
        "colab": {
          "base_uri": "https://localhost:8080/"
        },
        "id": "MSjQbhNXhJVV",
        "outputId": "2b9d2927-d011-4c90-cbb6-ac901a1fc77d"
      },
      "outputs": [
        {
          "name": "stdout",
          "output_type": "stream",
          "text": [
            "What date is today? yyyymmdd 2024-04-19\n",
            "2024-04-19\n"
          ]
        }
      ],
      "source": [
        "# your code will be here\n",
        "print(input(\"What date is today? yyyymmdd \"))"
      ]
    }
  ],
  "metadata": {
    "colab": {
      "provenance": []
    },
    "kernelspec": {
      "display_name": "Python 3",
      "name": "python3"
    },
    "language_info": {
      "name": "python"
    }
  },
  "nbformat": 4,
  "nbformat_minor": 0
}
