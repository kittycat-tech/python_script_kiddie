{
  "cells": [
    {
      "cell_type": "markdown",
      "metadata": {
        "id": "cnAUJprJdh9_"
      },
      "source": [
        "# Welcome to our Lab Practice!"
      ]
    },
    {
      "cell_type": "markdown",
      "metadata": {
        "id": "vVYcayGedmms"
      },
      "source": [
        "This lab is about branching - if-elif-else statements. Are you ready? Let's get started!"
      ]
    },
    {
      "cell_type": "markdown",
      "metadata": {
        "id": "JP8eGBVyeSQx"
      },
      "source": [
        "You will find some small tasks in sections below."
      ]
    },
    {
      "cell_type": "markdown",
      "metadata": {
        "id": "EZ42d1Sue0Zp"
      },
      "source": [
        "###Task: check if a number is positive, negative, or 0.\n",
        "\n",
        "You should ask the user to enter a number, if it is above 0, print \"It is positive\"; if it is below 0, print \"It is negative\"; otherwise, print \"It is zero\"."
      ]
    },
    {
      "cell_type": "code",
      "execution_count": 3,
      "metadata": {
        "colab": {
          "base_uri": "https://localhost:8080/"
        },
        "id": "yDzNIHsSeu85",
        "outputId": "5c0866f1-b08f-4eb5-f617-1369a1424ed6"
      },
      "outputs": [
        {
          "name": "stdout",
          "output_type": "stream",
          "text": [
            "Please enter an integer: 69\n",
            "It is positive\n"
          ]
        }
      ],
      "source": [
        "# type your code here\n",
        "number = int(input(\"Please enter an integer: \"))\n",
        "\n",
        "if number > 0:\n",
        "  print(\"It is positive\")\n",
        "elif number < 0:\n",
        "  print(\"It is negative\")\n",
        "else:\n",
        "  print(\"It is zero\")"
      ]
    },
    {
      "cell_type": "markdown",
      "metadata": {
        "id": "u8WEYfEqIbWX"
      },
      "source": [
        "###Task: check how many days current month has.\n",
        "\n",
        "You should ask the user to enter the number indicating the current month, such as 1 as January; then print the days the month has, such as print 31 if the user entered 1. Let's assume there are 28 days in February."
      ]
    },
    {
      "cell_type": "code",
      "execution_count": 24,
      "metadata": {
        "colab": {
          "base_uri": "https://localhost:8080/"
        },
        "id": "LKSmcHRRJUYY",
        "outputId": "ce587014-c9f0-431e-bd61-a1068b804f0c"
      },
      "outputs": [
        {
          "name": "stdout",
          "output_type": "stream",
          "text": [
            "Enter the number that corresponds to the current month, from 1 to 12. \n",
            " For example, if it's January, enter 1:  4\n",
            "Month 4: April has 30 days\n"
          ]
        }
      ],
      "source": [
        "# type your code here\n",
        "month = int(input(\"Enter the number that corresponds to the current month, from 1 to 12. \\n For example, if it's January, enter 1:  \"))\n",
        "days = {\n",
        "    1: \"January has 31 days\",\n",
        "    2: \"February has 28 days\",\n",
        "    3: \"March has 31 days\",\n",
        "    4: \"April has 30 days\",\n",
        "    5: \"May has 31 days\",\n",
        "    6: \"June has 30 days\",\n",
        "    7: \"July has 31 days\",\n",
        "    8: \"August has 31 days\",\n",
        "    9: \"September has 30 days\",\n",
        "    10: \"October has 31 days\",\n",
        "    11: \"November has 30 days\",\n",
        "    12: \"December has 31 days\"\n",
        "}\n",
        "\n",
        "matched_month = False\n",
        "\n",
        "for key, value in days.items():\n",
        "    if month == key:\n",
        "        matched_month = True\n",
        "        print(f\"Month {key}: {value}\")\n",
        "\n",
        "if not matched_month:\n",
        "    print(\"Invalid month number. Please enter a number from 1 to 12.\")\n"
      ]
    },
    {
      "cell_type": "code",
      "execution_count": 1,
      "metadata": {},
      "outputs": [],
      "source": [
        "#alternative code for catching error:\n",
        "while True:\n",
        "    user_input = input(\"Enter the number that corresponds to the current month, from 1 to 12. \\n For example, if it's January, enter 1: \")\n",
        "    try:\n",
        "        month = int(float(user_input))\n",
        "        if month < 1 or month > 12:\n",
        "            raise ValueError \n",
        "        break \n",
        "    except ValueError:\n",
        "        print(\"Invalid input. Please enter a number from 1 to 12.\")\n",
        "\n",
        "days = {\n",
        "    1: \"January has 31 days\",\n",
        "    2: \"February has 28 days\",\n",
        "    3: \"March has 31 days\",\n",
        "    4: \"April has 30 days\",\n",
        "    5: \"May has 31 days\",\n",
        "    6: \"June has 30 days\",\n",
        "    7: \"July has 31 days\",\n",
        "    8: \"August has 31 days\",\n",
        "    9: \"September has 30 days\",\n",
        "    10: \"October has 31 days\",\n",
        "    11: \"November has 30 days\",\n",
        "    12: \"December has 31 days\"\n",
        "}\n",
        "\n",
        "print(days.get(month, \"Invalid month number. Please enter a number from 1 to 12.\"))\n"
      ]
    },
    {
      "cell_type": "markdown",
      "metadata": {
        "id": "-__o8ovbfSEH"
      },
      "source": [
        "###Task: collect parking fee\n",
        "\n",
        "A parking garage has following price policy\n",
        "\n",
        "\n",
        "1.   first half hour: 5\n",
        "2.   second half hour to 2 hours: 15\n",
        "3.   more than 2 hours: 5 per hour\n",
        "\n",
        "Ask the user to enter the hours of parking (it should be a float number, such as 1.6 as 1.6 hours), and calculate the parking fee.\n",
        "\n"
      ]
    },
    {
      "cell_type": "code",
      "execution_count": 21,
      "metadata": {
        "colab": {
          "base_uri": "https://localhost:8080/"
        },
        "id": "hOpxhSKog18Y",
        "outputId": "a5c39b48-6104-4177-f53f-f78c2aa32647"
      },
      "outputs": [
        {
          "name": "stdout",
          "output_type": "stream",
          "text": [
            "Enter the hours of parking: 0.5\n",
            "Your parking fee for 0.5 hours is $5.\n"
          ]
        }
      ],
      "source": [
        "# your code will be here\n",
        "parking_hours = float(input(\"Enter the hours of parking: \"))\n",
        "\n",
        "if parking_hours <= 0.5:\n",
        "    print(f\"Your parking fee for {parking_hours} hours is $5.\")\n",
        "elif 0.5 <= parking_hours <= 2:\n",
        "    print(f\"Your parking fee for {parking_hours} hours is $15.\")\n",
        "else:\n",
        "    remaining_hours = parking_hours - 2\n",
        "    total_fee = 15 + remaining_hours * 5\n",
        "    print(f\"Your parking fee for {parking_hours} hours is ${total_fee}.\")"
      ]
    },
    {
      "cell_type": "markdown",
      "metadata": {
        "id": "uZYVZQIvIlPy"
      },
      "source": [
        "###Task: What stage are you in?  \n",
        "\n",
        "Write a program that asks the user to enter a person’s age. The program should display a message indicating whether the person is an infant, a child, a teenager, an adult, or a senior citizen.\n",
        "\n",
        "Following are the guidelines:\n",
        "1.   If the person is 1 year old or less, he or she is an infant.\n",
        "1.   If the person is older than 1 year, but younger than 13 years, he or she is a child.\n",
        "1.   If the person is at least 13 years old, but less than 20 years old, he or she is a teenager.\n",
        "1.   If the person is at least 20 years old, but less than 65 years old, he or she is an adult.\n",
        "1.   Otherwise the person is a senior citizen."
      ]
    },
    {
      "cell_type": "code",
      "execution_count": 37,
      "metadata": {
        "colab": {
          "base_uri": "https://localhost:8080/"
        },
        "id": "Y_3dcyvcQ2GI",
        "outputId": "68b87001-ac33-4e15-8fc8-ec3a7145f053"
      },
      "outputs": [
        {
          "name": "stdout",
          "output_type": "stream",
          "text": [
            "How young is your friend? Enter your friend's age here: 31.1\n",
            "The person is an adult.\n"
          ]
        }
      ],
      "source": [
        "# your code will be here\n",
        "age = float(input(\"How young is your friend? Enter your friend's age here: \"))\n",
        "\n",
        "if age <= 1:\n",
        "    print(\"The person is an infant.\")\n",
        "elif age < 13:\n",
        "    print(\"The person is a child.\")\n",
        "elif age < 20:\n",
        "    print(\"The person is a teenager.\")\n",
        "elif age < 65:\n",
        "    print(\"The person is an adult.\")\n",
        "else:\n",
        "    print(\"The person is a senior citizen.\")"
      ]
    }
  ],
  "metadata": {
    "colab": {
      "provenance": [],
      "toc_visible": true
    },
    "kernelspec": {
      "display_name": "Python 3",
      "name": "python3"
    },
    "language_info": {
      "codemirror_mode": {
        "name": "ipython",
        "version": 3
      },
      "file_extension": ".py",
      "mimetype": "text/x-python",
      "name": "python",
      "nbconvert_exporter": "python",
      "pygments_lexer": "ipython3",
      "version": "3.12.2"
    }
  },
  "nbformat": 4,
  "nbformat_minor": 0
}
