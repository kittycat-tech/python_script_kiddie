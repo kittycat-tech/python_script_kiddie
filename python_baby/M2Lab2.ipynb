{
  "nbformat": 4,
  "nbformat_minor": 0,
  "metadata": {
    "colab": {
      "provenance": [],
      "toc_visible": true
    },
    "kernelspec": {
      "name": "python3",
      "display_name": "Python 3"
    },
    "language_info": {
      "name": "python"
    }
  },
  "cells": [
    {
      "cell_type": "markdown",
      "metadata": {
        "id": "cnAUJprJdh9_"
      },
      "source": [
        "# Welcome to our Lab Practice!"
      ]
    },
    {
      "cell_type": "markdown",
      "source": [
        "Activity provider: University of Colorado, Boulder"
      ],
      "metadata": {
        "id": "kM8hXuh_LKRe"
      }
    },
    {
      "cell_type": "markdown",
      "metadata": {
        "id": "vVYcayGedmms"
      },
      "source": [
        "This lab is about arithmetic operations, more assignemnt operations from input(). Are you ready? Let's get started!"
      ]
    },
    {
      "cell_type": "markdown",
      "metadata": {
        "id": "JP8eGBVyeSQx"
      },
      "source": [
        "You will find some small tasks in sections below."
      ]
    },
    {
      "cell_type": "markdown",
      "metadata": {
        "id": "TNbXeCDFeAcJ"
      },
      "source": [
        "## Arithmetic Operation\n",
        "\n",
        "In this section, you are going to code and run arithmetic operations of two numbers.\n",
        "\n",
        "Hint: to print out the equation, we can use the print() to print multiple values out.\n",
        "\n",
        "For example, print(x, 'operator', y, '=', x operator y) for an operator."
      ]
    },
    {
      "cell_type": "markdown",
      "metadata": {
        "id": "hhAeaPrjTLRT"
      },
      "source": [
        "###Task: Get some computation.\n",
        "\n",
        "1.   Assign x with 2, y with 3.\n",
        "2.   print out the equation and result of\n",
        "  1.   x + y\n",
        "  2.   x - y\n",
        "  3.   x * y\n",
        "  4.   x / y\n",
        "  5.   x // y\n",
        "  6.   x ** y\n",
        "  7.   x % y\n",
        "\n",
        "\n",
        "\n"
      ]
    },
    {
      "cell_type": "code",
      "metadata": {
        "id": "v4jLx-_gTIFA",
        "colab": {
          "base_uri": "https://localhost:8080/"
        },
        "outputId": "9154d7c3-6c0b-4542-d985-987e18fa89f8"
      },
      "source": [
        "# type your code here\n",
        "x = 2\n",
        "y = 3\n",
        "computations = {\n",
        "    \"addition\": x + y,\n",
        "    \"subtraction\": x - y,\n",
        "    \"multiplication\": x * y,\n",
        "    \"division\": x / y,\n",
        "    \"integer_division\": x // y,\n",
        "    \"exponentiation\": x ** y,\n",
        "    \"modulo\": x % y\n",
        "}\n",
        "for name, computation in computations.items():\n",
        "  print(f\"{name}: {computation}\")\n"
      ],
      "execution_count": 4,
      "outputs": [
        {
          "output_type": "stream",
          "name": "stdout",
          "text": [
            "addition: 5\n",
            "subtraction: -1\n",
            "multiplication: 6\n",
            "division: 0.6666666666666666\n",
            "integer_division: 0\n",
            "exponentiation: 8\n",
            "modulo: 2\n"
          ]
        }
      ]
    },
    {
      "cell_type": "markdown",
      "metadata": {
        "id": "TEHPJ_CpUuOv"
      },
      "source": [
        "###Task: Get some other computation.\n",
        "\n",
        "1.   Assign x with a value you like, y with another value you like.\n",
        "2.   print out the equation and result of\n",
        "  1.   x + y\n",
        "  2.   x - y\n",
        "  3.   x * y\n",
        "  4.   x / y\n",
        "  5.   x // y\n",
        "  6.   x ** y\n",
        "  7.   x % y\n",
        "3.   Are there some value that will crash your program? Why?"
      ]
    },
    {
      "cell_type": "code",
      "metadata": {
        "id": "e4UI_UJpU-7q",
        "colab": {
          "base_uri": "https://localhost:8080/"
        },
        "outputId": "da37a78b-c487-46ae-fe55-a4f37389e85b"
      },
      "source": [
        "# type your code here\n",
        "x = 8\n",
        "y = 10\n",
        "computations = {\n",
        "    \"addition\": x + y,\n",
        "    \"subtraction\": x - y,\n",
        "    \"multiplication\": x * y,\n",
        "    \"division\": x / y,\n",
        "    \"integer_division\": x // y,\n",
        "    \"exponentiation\": x ** y,\n",
        "    \"modulo\": x % y\n",
        "}\n",
        "for name, computation in computations.items():\n",
        "  print(f\"{name}: {computation}\")\n",
        "\n",
        "#answer to question 3: no value crashed the program :)"
      ],
      "execution_count": 6,
      "outputs": [
        {
          "output_type": "stream",
          "name": "stdout",
          "text": [
            "addition: 18\n",
            "subtraction: -2\n",
            "multiplication: 80\n",
            "division: 0.8\n",
            "integer_division: 0\n",
            "exponentiation: 1073741824\n",
            "modulo: 8\n"
          ]
        }
      ]
    },
    {
      "cell_type": "markdown",
      "metadata": {
        "id": "D8pWdoN7d6Dy"
      },
      "source": [
        "## Get Inputs from Users"
      ]
    },
    {
      "cell_type": "markdown",
      "metadata": {
        "id": "EZ42d1Sue0Zp"
      },
      "source": [
        "###Task: Help the User\n",
        "\n",
        "1.   Ask the user to enter an integer, convert and assign it to x;\n",
        "2.   Ask the user to enter another integer, convert and assign it to y;\n",
        "3.   print out the equation and result of\n",
        "  1.   x + y\n",
        "  2.   x - y\n",
        "  3.   x * y\n",
        "  4.   x / y\n",
        "  5.   x // y\n",
        "  6.   x ** y\n",
        "  7.   x % y\n",
        "3.   Are there some value that will crash your program? Why?\n"
      ]
    },
    {
      "cell_type": "code",
      "metadata": {
        "id": "yDzNIHsSeu85",
        "colab": {
          "base_uri": "https://localhost:8080/"
        },
        "outputId": "ca5d5728-2526-43f8-d3a7-00fb83332683"
      },
      "source": [
        "# type your code here\n",
        "x = int(input(\"Enter an integer to represent x: \"))\n",
        "y = int(input(\"Enter another integer to represent y: \"))\n",
        "computations = {\n",
        "    \"addition\": x + y,\n",
        "    \"subtraction\": x - y,\n",
        "    \"multiplication\": x * y,\n",
        "    \"division\": x / y,\n",
        "    \"integer_division\": x // y,\n",
        "    \"exponentiation\": x ** y,\n",
        "    \"modulo\": x % y\n",
        "}\n",
        "for name, computation in computations.items():\n",
        "  print(f\"{name}: {computation}\")\n"
      ],
      "execution_count": 7,
      "outputs": [
        {
          "output_type": "stream",
          "name": "stdout",
          "text": [
            "Enter an integer to represent x: 15\n",
            "Enter another integer to represent y: 19\n",
            "addition: 34\n",
            "subtraction: -4\n",
            "multiplication: 285\n",
            "division: 0.7894736842105263\n",
            "integer_division: 0\n",
            "exponentiation: 22168378200531005859375\n",
            "modulo: 15\n"
          ]
        }
      ]
    }
  ]
}