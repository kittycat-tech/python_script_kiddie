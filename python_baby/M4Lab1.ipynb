{
  "cells": [
    {
      "cell_type": "markdown",
      "metadata": {
        "id": "cnAUJprJdh9_"
      },
      "source": [
        "# Welcome to our Lab Practice!"
      ]
    },
    {
      "cell_type": "markdown",
      "metadata": {
        "id": "vVYcayGedmms"
      },
      "source": [
        "This lab is about repetition - while loops. Are you ready? Let's get started!"
      ]
    },
    {
      "cell_type": "markdown",
      "metadata": {
        "id": "JP8eGBVyeSQx"
      },
      "source": [
        "You will find some small tasks in sections below."
      ]
    },
    {
      "cell_type": "markdown",
      "metadata": {
        "id": "EZ42d1Sue0Zp"
      },
      "source": [
        "###Task #1: Print all integers from -5 to 5.\n"
      ]
    },
    {
      "cell_type": "code",
      "execution_count": null,
      "metadata": {
        "colab": {
          "base_uri": "https://localhost:8080/"
        },
        "id": "yDzNIHsSeu85",
        "outputId": "73384d44-63b7-4900-de0b-bae49b43332c"
      },
      "outputs": [
        {
          "name": "stdout",
          "output_type": "stream",
          "text": [
            "-5\n",
            "-4\n",
            "-3\n",
            "-2\n",
            "-1\n",
            "0\n",
            "1\n",
            "2\n",
            "3\n",
            "4\n",
            "5\n"
          ]
        }
      ],
      "source": [
        "# type your code here\n",
        "#variant A\n",
        "x = -5\n",
        "\n",
        "while x != 6:\n",
        "  print(x)\n",
        "  x += 1\n",
        "\n",
        "#using while loop"
      ]
    },
    {
      "cell_type": "code",
      "source": [
        "#variant B\n",
        "for i in range(-5, 6, 1):\n",
        "  print(i)\n",
        "\n",
        "#using for loop with range function"
      ],
      "metadata": {
        "colab": {
          "base_uri": "https://localhost:8080/"
        },
        "id": "p3-0QHMS216e",
        "outputId": "f78d782e-0aaf-42de-e1f3-aa4b21591c2c"
      },
      "execution_count": 41,
      "outputs": [
        {
          "output_type": "stream",
          "name": "stdout",
          "text": [
            "-5\n",
            "-4\n",
            "-3\n",
            "-2\n",
            "-1\n",
            "0\n",
            "1\n",
            "2\n",
            "3\n",
            "4\n",
            "5\n"
          ]
        }
      ]
    },
    {
      "cell_type": "code",
      "source": [
        "#variant C (reversed)\n",
        "for i in range(5, -6, -1):\n",
        "  print(i)\n",
        "\n",
        "#This for loop starts from 5 and goes down to -5, printing each number along the way.\n",
        "#The -1 in range(5, -6, -1) tells Python to decrement the value of i by 1 in each iteration of the loop.\n"
      ],
      "metadata": {
        "colab": {
          "base_uri": "https://localhost:8080/"
        },
        "id": "erbtKh3VskR-",
        "outputId": "bf883173-2686-42b9-c47e-fd7b9b992dd0"
      },
      "execution_count": 39,
      "outputs": [
        {
          "output_type": "stream",
          "name": "stdout",
          "text": [
            "5\n",
            "4\n",
            "3\n",
            "2\n",
            "1\n",
            "0\n",
            "-1\n",
            "-2\n",
            "-3\n",
            "-4\n",
            "-5\n"
          ]
        }
      ]
    },
    {
      "cell_type": "markdown",
      "metadata": {
        "id": "u8WEYfEqIbWX"
      },
      "source": [
        "###Task #2: Print all integers of an interval given by the user\n",
        "\n",
        "Ask the user to enter two integers and print all integers between (including) them."
      ]
    },
    {
      "cell_type": "code",
      "execution_count": 42,
      "metadata": {
        "colab": {
          "base_uri": "https://localhost:8080/"
        },
        "id": "LKSmcHRRJUYY",
        "outputId": "a0c72c32-3924-45d1-b28c-c6bf58171c9c"
      },
      "outputs": [
        {
          "output_type": "stream",
          "name": "stdout",
          "text": [
            "Please enter the start integer: 5\n",
            "Please enter the end integer: 9\n",
            "5\n",
            "6\n",
            "7\n",
            "8\n",
            "9\n",
            "Sum of all integers including those in between the 2 integers: 35\n"
          ]
        }
      ],
      "source": [
        "# type your code here\n",
        "#variant A\n",
        "while True:\n",
        "    try:\n",
        "        # Initializing sum of 2 integers:\n",
        "        first_integer = int(input(\"Please enter the start integer: \"))\n",
        "        second_integer = int(input(\"Please enter the end integer: \"))\n",
        "        total_sum = 0\n",
        "\n",
        "        #Initializing overall sum of integers within the range, all inclusive:\n",
        "        start = min(first_integer, second_integer)\n",
        "        end = max(first_integer, second_integer)\n",
        "\n",
        "        for num in range(start, end + 1):\n",
        "            print(num)\n",
        "            total_sum += num\n",
        "\n",
        "        print(\"Sum of all integers including those in between the 2 integers:\", total_sum)\n",
        "\n",
        "        break\n",
        "\n",
        "    except ValueError:\n",
        "        # This should handle the case where the user enters a non-integer value\n",
        "        print(\"Invalid input. Please enter integer numbers.\")\n",
        "\n",
        "#use +1 in the range argument, so that the second integer will not be excluded (the 2nd argument is not included in count so +1 to get the end number included)"
      ]
    },
    {
      "cell_type": "code",
      "source": [
        "#variant B\n",
        "first_integer = int(input(\"Please enter the start integer: \"))\n",
        "second_integer = int(input(\"Please enter the end integer: \"))\n",
        "\n",
        "\n",
        "if first_integer <= second_integer:\n",
        "  start = first_integer\n",
        "  end = second_integer\n",
        "else:\n",
        "  start = second_integer\n",
        "  end = first_integer\n",
        "\n",
        "sum = 0\n",
        "\n",
        "for i in range(start, end+1, 1):\n",
        "  print(i)\n",
        "  sum += i\n",
        "  print(sum)\n",
        "\n",
        "print(f\"Sum of all integers from range of {start} up to {end} is {sum}\")\n",
        "\n",
        "#added +1 to the end argument so it gets included in the calculation :)"
      ],
      "metadata": {
        "colab": {
          "base_uri": "https://localhost:8080/"
        },
        "id": "_aauZcYAthFq",
        "outputId": "c100519b-3b23-4a27-e776-a0a429b71a91"
      },
      "execution_count": 11,
      "outputs": [
        {
          "output_type": "stream",
          "name": "stdout",
          "text": [
            "Please enter the start integer: 10\n",
            "Please enter the end integer: 9\n",
            "9\n",
            "9\n",
            "10\n",
            "19\n",
            "Sum of all integers from range of 9 up to 10 is 19\n"
          ]
        }
      ]
    },
    {
      "cell_type": "markdown",
      "metadata": {
        "id": "-__o8ovbfSEH"
      },
      "source": [
        "###Task #3 : Double The Number\n",
        "\n",
        "Step 1: Ask the user to enter a small positive number (0 - 10)\n",
        "\n",
        "Step 2: Double the number, print it out, and repeat, until the number beyond 1,000,000\n",
        "\n",
        "(How fast the number is growing)"
      ]
    },
    {
      "cell_type": "code",
      "execution_count": 16,
      "metadata": {
        "colab": {
          "base_uri": "https://localhost:8080/"
        },
        "id": "571xEQKwTyj1",
        "outputId": "0464f189-bce9-4dd2-be88-5643a20e0b15"
      },
      "outputs": [
        {
          "output_type": "stream",
          "name": "stdout",
          "text": [
            "Enter a positive integer from zero to 10: 10\n",
            "20\n",
            "40\n",
            "80\n",
            "160\n",
            "320\n",
            "640\n",
            "1280\n",
            "2560\n",
            "5120\n",
            "10240\n",
            "20480\n",
            "40960\n",
            "81920\n",
            "163840\n",
            "327680\n",
            "655360\n",
            "1310720\n"
          ]
        }
      ],
      "source": [
        "# your code will be here\n",
        "integer_input = int(input(\"Enter a positive integer from zero to 10: \"))\n",
        "\n",
        "while integer_input <= 1000000:\n",
        "    double = integer_input * 2\n",
        "    print(double)\n",
        "    integer_input = double\n"
      ]
    },
    {
      "cell_type": "markdown",
      "metadata": {
        "id": "uZYVZQIvIlPy"
      },
      "source": [
        "###Task #4: Keep asking for candy until 'STOP'  \n",
        "\n",
        "Step1: Ask the user to enter anything\n",
        "\n",
        "Step2: print a message 'Thanks! I got a candy'\n",
        "\n",
        "Step3: Repeat Step 1 and 2, until the user enter 'Done'\n",
        "\n",
        "Step4: print a message 'Thanks! I have enough.'"
      ]
    },
    {
      "cell_type": "code",
      "execution_count": 22,
      "metadata": {
        "colab": {
          "base_uri": "https://localhost:8080/"
        },
        "id": "Y_3dcyvcQ2GI",
        "outputId": "9b111764-13c4-453e-e796-32f4971162e6"
      },
      "outputs": [
        {
          "output_type": "stream",
          "name": "stdout",
          "text": [
            "Enter any word: hello\n",
            "Thanks! I have enough. Enter Done or Stop to exit.\n",
            "Enter any word: world\n",
            "Thanks! I have enough. Enter Done or Stop to exit.\n",
            "Enter any word: done\n",
            "Thanks! I have enough.\n"
          ]
        }
      ],
      "source": [
        "# your code will be here\n",
        "\n",
        "while True:\n",
        "    try:\n",
        "        word_input = str(input(\"Enter any word: \"))\n",
        "\n",
        "        # Check if the user wants to stop\n",
        "        if word_input.lower() == \"done\" or word_input.lower() == \"stop\":\n",
        "            print('Thanks! I have enough.')\n",
        "            break\n",
        "        else:\n",
        "            print(\"Thanks! I have enough. Enter Done or Stop to exit.\")\n",
        "            word_input\n",
        "\n",
        "    except KeyboardInterrupt:\n",
        "        print(\"\\nExiting...\")\n",
        "        break\n"
      ]
    },
    {
      "cell_type": "markdown",
      "metadata": {
        "id": "qKFwdIypmt5J"
      },
      "source": [
        "### Task #5 : Password Setup\n",
        "\n",
        "*   Ask the user to enter a new password.\n",
        "*   Ask the user to enter the password again.\n",
        "*   If the second input matches the first one, print \"You are all set\", otherwise, repeat the process.\n"
      ]
    },
    {
      "cell_type": "code",
      "execution_count": 38,
      "metadata": {
        "id": "6pqvFtl8nHei",
        "colab": {
          "base_uri": "https://localhost:8080/"
        },
        "outputId": "1c680bde-cdec-475b-e024-5f2b25c0d38d"
      },
      "outputs": [
        {
          "output_type": "stream",
          "name": "stdout",
          "text": [
            "Enter your password: hello\n",
            "Enter again your password: world\n",
            "Passwords do not match. Kindly enter matching passwords.\n",
            "Enter your password again: pinkgirl\n",
            "Confirm your password: pinkgirl\n",
            "You are all set! \n"
          ]
        }
      ],
      "source": [
        "# your code will be here\n",
        "password = input(\"Enter your password: \")\n",
        "confirm = input(\"Enter again your password: \")\n",
        "\n",
        "while password != confirm:\n",
        "  print(\"Passwords do not match. Kindly enter matching passwords.\")\n",
        "  password = input(\"Enter your password again: \")\n",
        "  confirm = input(\"Confirm your password: \")\n",
        "\n",
        "print(\"You are all set! \")\n",
        "\n"
      ]
    }
  ],
  "metadata": {
    "colab": {
      "provenance": [],
      "toc_visible": true
    },
    "kernelspec": {
      "display_name": "Python 3",
      "name": "python3"
    },
    "language_info": {
      "name": "python"
    }
  },
  "nbformat": 4,
  "nbformat_minor": 0
}