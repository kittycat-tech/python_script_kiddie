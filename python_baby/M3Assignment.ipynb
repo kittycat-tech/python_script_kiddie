{
  "nbformat": 4,
  "nbformat_minor": 0,
  "metadata": {
    "colab": {
      "provenance": [],
      "toc_visible": true
    },
    "kernelspec": {
      "name": "python3",
      "display_name": "Python 3"
    },
    "language_info": {
      "name": "python"
    }
  },
  "cells": [
    {
      "cell_type": "markdown",
      "metadata": {
        "id": "cnAUJprJdh9_"
      },
      "source": [
        "# Welcome to our third assignment!"
      ]
    },
    {
      "cell_type": "markdown",
      "source": [
        "Assignment provider: University of Colorado, Boulder"
      ],
      "metadata": {
        "id": "P_VFffRsa8kv"
      }
    },
    {
      "cell_type": "markdown",
      "metadata": {
        "id": "vVYcayGedmms"
      },
      "source": [
        "This assignment is about testing your understanding of flow control: branching.\n",
        "\n",
        "We are going to create some simple programs using these tools. Are you ready? Let's get started!"
      ]
    },
    {
      "cell_type": "markdown",
      "metadata": {
        "id": "JP8eGBVyeSQx"
      },
      "source": [
        "You will find some small tasks in sections below. You should use input() to get the user to enter the information and use print() to print the information on the screen. At this moment, we can assume users will follow instructions carefully - they will enter the valid inputs as required."
      ]
    },
    {
      "cell_type": "markdown",
      "metadata": {
        "id": "TNbXeCDFeAcJ"
      },
      "source": [
        "## What day is today?\n",
        "\n",
        "###Instruction: Write a program that asks the user for a number in the range of 1 through 7. The program should display the corresponding day of the week, where\n",
        "\n",
        "* 1    = Monday,\n",
        "* 2    = Tuesday,\n",
        "* 3    = Wednesday,\n",
        "* 4    = Thursday,\n",
        "* 5    = Friday,\n",
        "* 6    = Saturday, and\n",
        "* 7    = Sunday\n",
        "* all other value entered = ERROR"
      ]
    },
    {
      "cell_type": "code",
      "metadata": {
        "id": "x6IbZ6rFw76O",
        "colab": {
          "base_uri": "https://localhost:8080/"
        },
        "outputId": "c870b4a4-28d7-4e6f-fdd8-c1497fbc2a02"
      },
      "source": [
        "# your code is here\n",
        "# Hard coding ranges of accepted values\n",
        "days_of_week = {\n",
        "    1: \"Monday\",\n",
        "    2: \"Tuesday\",\n",
        "    3: \"Wednesday\",\n",
        "    4: \"Thursday\",\n",
        "    5: \"Friday\",\n",
        "    6: \"Saturday\",\n",
        "    7: \"Sunday\"\n",
        "}\n",
        "\n",
        "while True:\n",
        "    try:\n",
        "        user_input = int(float(input(\"Please enter an integer from 1 to 7: \")))\n",
        "        if user_input < 1 or user_input > 7:\n",
        "            raise ValueError(\"Input must be between 1 and 7.\")\n",
        "\n",
        "        day_name = days_of_week[user_input]\n",
        "        print(f\"Number {user_input} corresponds to {day_name} of the week\")\n",
        "        break\n",
        "\n",
        "    except ValueError:\n",
        "        print(\"Invalid input. Please enter a number from 1 to 7.\")\n",
        "\n",
        "    except KeyError:\n",
        "        print(\"Invalid input. Please enter a number from 1 to 7.\")\n"
      ],
      "execution_count": 2,
      "outputs": [
        {
          "output_type": "stream",
          "name": "stdout",
          "text": [
            "Please enter an integer from 1 to 7: 8\n",
            "Invalid input. Please enter a number from 1 to 7.\n",
            "Please enter an integer from 1 to 7: 5\n",
            "Number 5 corresponds to Friday of the week\n"
          ]
        }
      ]
    },
    {
      "cell_type": "code",
      "source": [
        "#alternative code (checking the keys of the key-value pairs in the dictionary)\n",
        "days_of_week = {\n",
        "    1: \"Monday\",\n",
        "    2: \"Tuesday\",\n",
        "    3: \"Wednesday\",\n",
        "    4: \"Thursday\",\n",
        "    5: \"Friday\",\n",
        "    6: \"Saturday\",\n",
        "    7: \"Sunday\"\n",
        "}\n",
        "\n",
        "while True:\n",
        "    try:\n",
        "        user_input = int(float(input(\"Please enter an integer from 1 to 7: \")))\n",
        "        if user_input in days_of_week:\n",
        "            day_name = days_of_week[user_input]\n",
        "            print(f\"Number {user_input} corresponds to {day_name} of the week\")\n",
        "            break\n",
        "        else:\n",
        "            print(\"Invalid input. Please enter a number from 1 to 7.\")\n",
        "    except ValueError:\n",
        "        print(\"Invalid input. Please enter a number from 1 to 7.\")\n",
        "\n"
      ],
      "metadata": {
        "colab": {
          "base_uri": "https://localhost:8080/"
        },
        "id": "KjTVQTDjZEKA",
        "outputId": "e6d1600c-f10d-4808-e78d-ed95df89f71a"
      },
      "execution_count": 6,
      "outputs": [
        {
          "output_type": "stream",
          "name": "stdout",
          "text": [
            "Please enter an integer from 1 to 7: 9\n",
            "Invalid input. Please enter a number from 1 to 7.\n",
            "Please enter an integer from 1 to 7: 10\n",
            "Invalid input. Please enter a number from 1 to 7.\n",
            "Please enter an integer from 1 to 7: 5\n",
            "Number 5 corresponds to Friday of the week\n"
          ]
        }
      ]
    },
    {
      "cell_type": "code",
      "source": [
        "#tinkering: for checking values in the dictionary\n",
        "days_of_week = {\n",
        "    1: \"Monday\",\n",
        "    2: \"Tuesday\",\n",
        "    3: \"Wednesday\",\n",
        "    4: \"Thursday\",\n",
        "    5: \"Friday\",\n",
        "    6: \"Saturday\",\n",
        "    7: \"Sunday\"\n",
        "}\n",
        "\n",
        "user_input = input(\"Please enter a day of the week: \").upper()  # Convert user input to lowercase\n",
        "\n",
        "if user_input in [day.upper() for day in days_of_week.values()]:\n",
        "    print(f\"{user_input.capitalize()} is a valid day of the week.\")\n",
        "else:\n",
        "    print(f\"{user_input.capitalize()} is not a valid day of the week.\")\n"
      ],
      "metadata": {
        "colab": {
          "base_uri": "https://localhost:8080/"
        },
        "id": "N35BjHgrZ5VN",
        "outputId": "78510531-7d05-4587-95d8-45e5b7b94b92"
      },
      "execution_count": 5,
      "outputs": [
        {
          "output_type": "stream",
          "name": "stdout",
          "text": [
            "Please enter a day of the week: sUnday\n",
            "Sunday is a valid day of the week.\n"
          ]
        }
      ]
    },
    {
      "cell_type": "markdown",
      "metadata": {
        "id": "fZfiqg5lxFKF"
      },
      "source": [
        "## Tax Calculator\n",
        "\n",
        "###Instruction: You are going to program a  simple tax calculator.\n",
        "\n",
        "step1: Ask the user to enter the gross income of year 2022.\n",
        "\n",
        "step2: Calculate the tax based on following formula:\n",
        "\n",
        "1.   Less than \\$100,000, one pays just 1%\n",
        "2.   More than \\$100,000 one pays 5%\n",
        "3.   More than \\$500,000 then one pays 5% tax on the first 500,000 and 2 cents for every dollar above 500,000\n",
        "\n",
        "step3: Print the tax amount on the screen."
      ]
    },
    {
      "cell_type": "code",
      "metadata": {
        "id": "2bODNGPSx1-m",
        "colab": {
          "base_uri": "https://localhost:8080/"
        },
        "outputId": "07ba09aa-323b-417c-ba50-fb07d8175fcc"
      },
      "source": [
        "# your code is here\n",
        "user_input = int(float(input(\"Enter your gross income for the year 2022: \")))\n",
        "\n",
        "if user_input < 100000:\n",
        "    tax_amount = user_input * 0.01\n",
        "    tax_rate = \"1%\"\n",
        "elif user_input < 500000:\n",
        "    tax_amount = user_input * 0.05\n",
        "    tax_rate = \"5%\"\n",
        "else:\n",
        "    tax_amount = (500000 * 0.05) + ((user_input - 500000) * 0.02)\n",
        "    tax_rate = \"5% on the first $500,000 and 2 cents for every dollar above $500,000\"\n",
        "\n",
        "print(f\"Your tax rate is {tax_rate}. \\n You input ${user_input} therefore your tax amount is ${tax_amount:.2f}\")\n",
        "\n",
        "#I added '.2f' to format the output with a maximum of two decimals.\n"
      ],
      "execution_count": 21,
      "outputs": [
        {
          "output_type": "stream",
          "name": "stdout",
          "text": [
            "Enter your gross income for the year 2022: 500001\n",
            "Your tax rate is 5% on the first $500,000 and 2 cents for every dollar above $500,000. \n",
            " You input $500001 therefore your tax amount is $25000.02\n"
          ]
        }
      ]
    },
    {
      "cell_type": "markdown",
      "metadata": {
        "id": "cZmW-HnwyHcI"
      },
      "source": [
        "## A Simple Calculator\n",
        "\n",
        "###Instruction: You are going to program a super simple Calcualtor.\n",
        "\n",
        "step1: Ask the user to enter the first number, store it in x\n",
        "\n",
        "step2: Ask the user to enter the second number, store it in y\n",
        "\n",
        "step3: Ask the user to enter the operator, store it in p\n",
        "\n",
        "step4: Calculate the result of x p y.\n",
        "\n",
        "For example, if the user entered 2, 3, and +, you should print 2.0 + 3.0 = 5.0 on the screen"
      ]
    },
    {
      "cell_type": "code",
      "metadata": {
        "id": "wk6FHvAvyr_G",
        "colab": {
          "base_uri": "https://localhost:8080/"
        },
        "outputId": "6ccd1dd6-c6a7-4554-af28-7f6054ca8f0a"
      },
      "source": [
        "# your code is here\n",
        "x = float(input(\"Enter a number: \"))\n",
        "y = float(input(\"Enter another number: \"))\n",
        "p = input(\"Enter: +, -, /, *  \")\n",
        "\n",
        "if p == '+':\n",
        "    result = x + y\n",
        "elif p == '-':\n",
        "    result = x - y\n",
        "elif p == '*':\n",
        "    result = x * y\n",
        "elif p == '/':\n",
        "    if y == 0:\n",
        "        print(\"Error: Division by zero!\")\n",
        "        exit()\n",
        "    result = x / y\n",
        "else:\n",
        "    print(\"Error: Invalid operator!\")\n",
        "    exit()\n",
        "\n",
        "print(f\"{x} {p} {y} = {result}\")\n"
      ],
      "execution_count": 24,
      "outputs": [
        {
          "output_type": "stream",
          "name": "stdout",
          "text": [
            "Enter a number: 8\n",
            "Enter another number: 9\n",
            "Enter: +, -, /, *  +\n",
            "8.0 + 9.0 = 17.0\n"
          ]
        }
      ]
    },
    {
      "cell_type": "markdown",
      "metadata": {
        "id": "auP4vt99EOJx"
      },
      "source": [
        "## Taxi Fare Calculator\n",
        "\n",
        "###Instruction: You are going to program a simple Calcualtor for a taxi.\n",
        "\n",
        "step1: Ask the driver to enter total miles, store it in m\n",
        "\n",
        "step2: Calculate the fare based on the formular\n",
        "\n",
        "*   if m < 10, fare is \\$5\n",
        "*   if 10 <= m < 20, fare is \\$5 plus \\$1 for every mile beyond 10.\n",
        "*   if m >= 20, fare is \\$5 plus \\$1.5 for every mile beyond 10\n",
        "\n",
        "step3: print the fare.\n"
      ]
    },
    {
      "cell_type": "code",
      "metadata": {
        "id": "3sEH96OkGAzR",
        "colab": {
          "base_uri": "https://localhost:8080/"
        },
        "outputId": "99a2ed0b-a6d6-49ae-935c-39fd20b503d7"
      },
      "source": [
        "m = float(input(\"Enter total miles driven: \"))\n",
        "\n",
        "if m < 10:\n",
        "    fare = 5\n",
        "elif m < 20:\n",
        "    fare = 5 + ((m - 10) * 1)\n",
        "else:\n",
        "    fare = 5 + ((m - 10) * 1.5)\n",
        "\n",
        "print(f\"The fare for the taxi ride is: ${fare}\")\n"
      ],
      "execution_count": 33,
      "outputs": [
        {
          "output_type": "stream",
          "name": "stdout",
          "text": [
            "Enter total miles driven: 11\n",
            "The fare for the taxi ride is: $ 6.0\n"
          ]
        }
      ]
    },
    {
      "cell_type": "markdown",
      "metadata": {
        "id": "ylesrgONGCbf"
      },
      "source": [
        "## Flash Shipping charges\n",
        "\n",
        "###Instruction: You are going to program a shipping charge calculator for a deliver company - Flash Shipping.\n",
        "\n",
        "The rate of delivery is as below\n",
        "\n",
        "| Weight of Package | Domestic Rate Per Pound | International Rate Per Pound |\n",
        "| --- | --- | --- |\n",
        "| 2 lbs or less | \\$1.5 | \\$5.0 |\n",
        "| More than 2 lbs but no more than 6 lbs | \\$2.5 | \\$7.0 |\n",
        "| Morethan 6 lbs but no more than 20 lbs | \\$3.5 | \\$10.0 |\n",
        "| More than 20 lbs | \\$5.0 | \\$15.0 |\n",
        "\n",
        "step1: Ask the user to enter the weight of the package, and the destination (domestic or international)\n",
        "\n",
        "step2: Calculate the shipping charge based on the rate\n",
        "\n",
        "step3: print the charge.\n"
      ]
    },
    {
      "cell_type": "code",
      "metadata": {
        "id": "PntyPGzNHiYw",
        "colab": {
          "base_uri": "https://localhost:8080/"
        },
        "outputId": "c90a0899-630e-4513-959c-106eb5498716"
      },
      "source": [
        "# your code is here\n",
        "weight = float(input(\"Enter the weight of the package in pounds (lbs): \"))\n",
        "destination = str(input(\"Enter if the destination is: domestic or international \")).lower()\n",
        "\n",
        "if weight <= 2:\n",
        "    rate = 1.5 if destination == \"domestic\" else 5.0\n",
        "elif weight <= 6:\n",
        "    rate = 2.5 if destination == \"domestic\" else 7.0\n",
        "elif weight <= 20:\n",
        "    rate = 3.5 if destination == \"domestic\" else 10.0\n",
        "else:\n",
        "    rate = 5.0 if destination == \"domestic\" else 15.0\n",
        "\n",
        "charge = weight * rate\n",
        "\n",
        "print(f\"The shipping charge is: ${charge:.2f}\")\n",
        "\n",
        "# I added .lower() to solve case sensitivity issues for the string input\n",
        "# I've also included .2f to format the decimals for the shipping charge in USD.\n"
      ],
      "execution_count": 32,
      "outputs": [
        {
          "output_type": "stream",
          "name": "stdout",
          "text": [
            "Enter the weight of the package in pounds (lbs): 2\n",
            "Enter if the destination is: domestic or international domesTic\n",
            "The shipping charge is: $3.00\n"
          ]
        }
      ]
    },
    {
      "cell_type": "markdown",
      "metadata": {
        "id": "7Ysdu7UJ_qf8"
      },
      "source": [
        "**Congratulations! You finished this Assignment and completed Module 3!**"
      ]
    }
  ]
}