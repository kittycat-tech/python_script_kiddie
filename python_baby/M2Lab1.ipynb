{
  "cells": [
    {
      "cell_type": "markdown",
      "metadata": {
        "id": "cnAUJprJdh9_"
      },
      "source": [
        "# Welcome to our Lab Practice!"
      ]
    },
    {
      "cell_type": "markdown",
      "metadata": {
        "id": "Yw18-LT4UF1R"
      },
      "source": [
        "Activity provider: University of Colorado, Boulder"
      ]
    },
    {
      "cell_type": "markdown",
      "metadata": {
        "id": "vVYcayGedmms"
      },
      "source": [
        "This lab is about variables, assignments, and their value and data types. Are you ready? Let's get started!"
      ]
    },
    {
      "cell_type": "markdown",
      "metadata": {
        "id": "JP8eGBVyeSQx"
      },
      "source": [
        "You will find some small tasks in sections below."
      ]
    },
    {
      "cell_type": "markdown",
      "metadata": {
        "id": "TNbXeCDFeAcJ"
      },
      "source": [
        "## Value assignment"
      ]
    },
    {
      "cell_type": "markdown",
      "metadata": {
        "id": "EZ42d1Sue0Zp"
      },
      "source": [
        "###Task: assign **x** with an int 5.\n",
        "\n",
        "Use print() and type() to check the value is correctly assigned, and the data type is correct. For example: print('x:', x, type(x))"
      ]
    },
    {
      "cell_type": "code",
      "execution_count": 34,
      "metadata": {
        "colab": {
          "base_uri": "https://localhost:8080/"
        },
        "id": "yDzNIHsSeu85",
        "outputId": "72c122e0-1630-474e-df17-35547bb131ab"
      },
      "outputs": [
        {
          "name": "stdout",
          "output_type": "stream",
          "text": [
            "x: 5 <class 'int'>\n"
          ]
        }
      ],
      "source": [
        "# type your code here\n",
        "x = 5\n",
        "print(f\"x: {x}\" , type(x))"
      ]
    },
    {
      "cell_type": "markdown",
      "metadata": {
        "id": "u8WEYfEqIbWX"
      },
      "source": [
        "###Task: assign **int_x** with x.\n",
        "\n",
        "Use print() and type() to check the value is correctly assigned, and the data type is correct."
      ]
    },
    {
      "cell_type": "code",
      "execution_count": 35,
      "metadata": {
        "colab": {
          "base_uri": "https://localhost:8080/"
        },
        "id": "LKSmcHRRJUYY",
        "outputId": "6e0c6a3a-6a87-45fc-b1e2-dd587b7c3a49"
      },
      "outputs": [
        {
          "name": "stdout",
          "output_type": "stream",
          "text": [
            "x: 5, <class 'int'>\n",
            "int_x: 5 <class 'int'>\n"
          ]
        }
      ],
      "source": [
        "# type your code here\n",
        "int_x = x\n",
        "print(f\"x: {x}, {type(x)}\")\n",
        "print(f\"int_x: {int_x}\", type(int_x))"
      ]
    },
    {
      "cell_type": "markdown",
      "metadata": {
        "id": "-__o8ovbfSEH"
      },
      "source": [
        "###Task: assign **x** with a float 5.0.\n",
        "\n",
        "Use print() and type() to check the value is correctly assigned, and the data type is correct."
      ]
    },
    {
      "cell_type": "code",
      "execution_count": 25,
      "metadata": {
        "colab": {
          "base_uri": "https://localhost:8080/"
        },
        "id": "hOpxhSKog18Y",
        "outputId": "615c0a46-d6f9-4e3a-d854-508e706e6dc6"
      },
      "outputs": [
        {
          "name": "stdout",
          "output_type": "stream",
          "text": [
            "x: 5.0 <class 'float'>\n"
          ]
        }
      ],
      "source": [
        "# your code will be here\n",
        "x = 5.0\n",
        "print(f\"x: {x}\", type(x))"
      ]
    },
    {
      "cell_type": "markdown",
      "metadata": {
        "id": "uZYVZQIvIlPy"
      },
      "source": [
        "###Task: assign **float_x** with x.\n",
        "\n",
        "Use print() and type() to check the value is correctly assigned, and the data type is correct."
      ]
    },
    {
      "cell_type": "code",
      "execution_count": 27,
      "metadata": {
        "colab": {
          "base_uri": "https://localhost:8080/"
        },
        "id": "Y_3dcyvcQ2GI",
        "outputId": "fcbcd3cb-abcf-40c5-ed98-1eb27d43d3c1"
      },
      "outputs": [
        {
          "name": "stdout",
          "output_type": "stream",
          "text": [
            "float_x: 5.0 <class 'float'>\n"
          ]
        }
      ],
      "source": [
        "# your code will be here\n",
        "float_x = x\n",
        "print(f\"float_x: {float_x}\", type(float_x))"
      ]
    },
    {
      "cell_type": "markdown",
      "metadata": {
        "id": "NpCNxK68gpME"
      },
      "source": [
        "###Task: assign **x** with a str '5'.\n",
        "\n",
        "Use print() and type() to check the value is correctly assigned, and the data type is correct."
      ]
    },
    {
      "cell_type": "code",
      "execution_count": 28,
      "metadata": {
        "colab": {
          "base_uri": "https://localhost:8080/"
        },
        "id": "txg-7uKfgKeW",
        "outputId": "1ba30fae-02f0-4416-b78e-18c356bd181a"
      },
      "outputs": [
        {
          "name": "stdout",
          "output_type": "stream",
          "text": [
            "x: 5 <class 'str'>\n"
          ]
        }
      ],
      "source": [
        "# your code will be here\n",
        "x = '5'\n",
        "print(f\"x: {x}\", type(x))"
      ]
    },
    {
      "cell_type": "markdown",
      "metadata": {
        "id": "Viln-qF5Irq4"
      },
      "source": [
        "###Task: assign **str1_x** with x.\n",
        "\n",
        "Use print() and type() to check the value is correctly assigned, and the data type is correct."
      ]
    },
    {
      "cell_type": "code",
      "execution_count": 29,
      "metadata": {
        "colab": {
          "base_uri": "https://localhost:8080/"
        },
        "id": "EGFHzwI3QzqH",
        "outputId": "aa409b9e-70e1-4603-a466-ac674c595784"
      },
      "outputs": [
        {
          "name": "stdout",
          "output_type": "stream",
          "text": [
            "str1_x: 5 <class 'str'>\n"
          ]
        }
      ],
      "source": [
        "# your code will be here\n",
        "str1_x = x\n",
        "print(f\"str1_x: {str1_x}\", type(str1_x))"
      ]
    },
    {
      "cell_type": "markdown",
      "metadata": {
        "id": "e0YP4pWzIQy0"
      },
      "source": [
        "###Task: assign **x** with a str '5.0'.\n",
        "\n",
        "Use print() and type() to check the value is correctly assigned, and the data type is correct."
      ]
    },
    {
      "cell_type": "code",
      "execution_count": 52,
      "metadata": {
        "colab": {
          "base_uri": "https://localhost:8080/"
        },
        "id": "i5oNpnSiIPtD",
        "outputId": "f1fa1e97-89af-4f39-cdbe-39a204bfef93"
      },
      "outputs": [
        {
          "name": "stdout",
          "output_type": "stream",
          "text": [
            "x: 5.0 <class 'str'>\n"
          ]
        }
      ],
      "source": [
        "# your code will be here\n",
        "x = '5.0'\n",
        "print('x:',x, type(x))\n",
        "\n",
        "#note: can use comma to separate multiple values to be printed"
      ]
    },
    {
      "cell_type": "markdown",
      "metadata": {
        "id": "9EwSZrKrIvat"
      },
      "source": [
        "###Task: assign **str2_x** with x.\n",
        "\n",
        "Use print() and type() to check the value is correctly assigned, and the data type is correct."
      ]
    },
    {
      "cell_type": "code",
      "execution_count": 9,
      "metadata": {
        "colab": {
          "base_uri": "https://localhost:8080/"
        },
        "id": "fobTAXmGJmV0",
        "outputId": "901f55d9-b035-4604-dabf-171a30bddbf4"
      },
      "outputs": [
        {
          "name": "stdout",
          "output_type": "stream",
          "text": [
            "5.0 <class 'str'>\n"
          ]
        }
      ],
      "source": [
        "# your code will be here\n",
        "str2_x = x\n",
        "print(str2_x, type(str2_x))"
      ]
    },
    {
      "cell_type": "markdown",
      "metadata": {
        "id": "4xBE9LqXJpow"
      },
      "source": [
        "###Task: check all variables.\n",
        "\n",
        "Use print() and type() to check all the variables you created so far: **x, int_x, float_x, str1_x, str2_x** value and data types."
      ]
    },
    {
      "cell_type": "code",
      "execution_count": 51,
      "metadata": {
        "colab": {
          "base_uri": "https://localhost:8080/"
        },
        "id": "gDFtlm4lJopJ",
        "outputId": "511ca4fe-8d2a-4ce0-8eaf-e752e5dec8ae"
      },
      "outputs": [
        {
          "name": "stdout",
          "output_type": "stream",
          "text": [
            "x: 5.0:<class 'str'>\n",
            "int_x: 5:<class 'int'>\n",
            "float_x: 5.0:<class 'float'>\n",
            "str1_x: 5:<class 'str'>\n",
            "str2_x: 5.0:<class 'str'>\n"
          ]
        }
      ],
      "source": [
        "# your code will be here\n",
        "variables = {'x': x, 'int_x': int_x, 'float_x': float_x, 'str1_x': str1_x, 'str2_x': str2_x}\n",
        "\n",
        "for name, value in variables.items():\n",
        "    print(f\"{name}: {value}:{type(value)}\")\n",
        "\n",
        "#note: \"name\" should be conventionally used or there would be wrong result ( using \"key\" will result to unwanted results)\n",
        "# value is replaceable with any variable, yet it will return the same expected result\n"
      ]
    },
    {
      "cell_type": "markdown",
      "metadata": {
        "id": "D8pWdoN7d6Dy"
      },
      "source": [
        "## Value converting\n",
        "\n",
        "For the task below, convert data value from one type to another, assign it to x, and use print() and type() to check for correctness."
      ]
    },
    {
      "cell_type": "markdown",
      "metadata": {
        "id": "rXgbUIBRgQoG"
      },
      "source": [
        "###Task: convert a str '0' to int"
      ]
    },
    {
      "cell_type": "code",
      "execution_count": 13,
      "metadata": {
        "colab": {
          "base_uri": "https://localhost:8080/"
        },
        "id": "oIKwmW2mfe3d",
        "outputId": "ebcba109-453e-4af5-ac07-547555815abb"
      },
      "outputs": [
        {
          "name": "stdout",
          "output_type": "stream",
          "text": [
            "0 <class 'int'>\n"
          ]
        }
      ],
      "source": [
        "# your code will be here\n",
        "x = int('0')\n",
        "print(x, type(x))"
      ]
    },
    {
      "cell_type": "markdown",
      "metadata": {
        "id": "aUD7waGAM-au"
      },
      "source": [
        "###Task: convert a float 0.1 to int"
      ]
    },
    {
      "cell_type": "code",
      "execution_count": 14,
      "metadata": {
        "colab": {
          "base_uri": "https://localhost:8080/"
        },
        "id": "lHsYgPViNBre",
        "outputId": "05e9cb8d-aafb-4a86-cd75-964ee2fc1161"
      },
      "outputs": [
        {
          "name": "stdout",
          "output_type": "stream",
          "text": [
            "0 <class 'int'>\n"
          ]
        }
      ],
      "source": [
        "# your code will be here\n",
        "x = int(0.1)\n",
        "print(x, type(x))"
      ]
    },
    {
      "cell_type": "markdown",
      "metadata": {
        "id": "QPoCScdkheK3"
      },
      "source": [
        "###Task: convert a str '0' to float"
      ]
    },
    {
      "cell_type": "code",
      "execution_count": 15,
      "metadata": {
        "colab": {
          "base_uri": "https://localhost:8080/"
        },
        "id": "tsFowDAKhJCB",
        "outputId": "71055fc0-ebeb-4867-b235-e5161fe76ae1"
      },
      "outputs": [
        {
          "name": "stdout",
          "output_type": "stream",
          "text": [
            "0.0 <class 'float'>\n"
          ]
        }
      ],
      "source": [
        "# your code will be here\n",
        "x = float('0')\n",
        "print(x, type(x))"
      ]
    },
    {
      "cell_type": "markdown",
      "metadata": {
        "id": "TE6Df1WYhu10"
      },
      "source": [
        "###Task: convert an int 0 to float"
      ]
    },
    {
      "cell_type": "code",
      "execution_count": 16,
      "metadata": {
        "colab": {
          "base_uri": "https://localhost:8080/"
        },
        "id": "MSjQbhNXhJVV",
        "outputId": "8412e144-49a8-4966-a650-25f2caa00062"
      },
      "outputs": [
        {
          "name": "stdout",
          "output_type": "stream",
          "text": [
            "0.0 <class 'float'>\n"
          ]
        }
      ],
      "source": [
        "# your code will be here\n",
        "x = float(0)\n",
        "print(x, type(x))"
      ]
    },
    {
      "cell_type": "markdown",
      "metadata": {
        "id": "f-zusksziv_N"
      },
      "source": [
        "###Task: convert an int 0 to str"
      ]
    },
    {
      "cell_type": "code",
      "execution_count": 17,
      "metadata": {
        "colab": {
          "base_uri": "https://localhost:8080/"
        },
        "id": "rVF4T_pwhKMM",
        "outputId": "bb3e1f93-af4e-4568-e0c1-295843bb05f0"
      },
      "outputs": [
        {
          "name": "stdout",
          "output_type": "stream",
          "text": [
            "0 <class 'str'>\n"
          ]
        }
      ],
      "source": [
        "# your code will be here\n",
        "x = str(0)\n",
        "print(x, type(x))"
      ]
    },
    {
      "cell_type": "markdown",
      "metadata": {
        "id": "yls-7KE6kA7o"
      },
      "source": [
        "###Task: convert a float 0.1 to str"
      ]
    },
    {
      "cell_type": "code",
      "execution_count": 18,
      "metadata": {
        "colab": {
          "base_uri": "https://localhost:8080/"
        },
        "id": "ZZ1XEd29kAIR",
        "outputId": "bab5823f-372b-445a-b553-cc8da372d9cc"
      },
      "outputs": [
        {
          "name": "stdout",
          "output_type": "stream",
          "text": [
            "0.1 <class 'str'>\n"
          ]
        }
      ],
      "source": [
        "# your code will be here\n",
        "x = str(0.1)\n",
        "print(x, type(x))"
      ]
    }
  ],
  "metadata": {
    "colab": {
      "provenance": [],
      "toc_visible": true
    },
    "kernelspec": {
      "display_name": "Python 3",
      "name": "python3"
    },
    "language_info": {
      "name": "python"
    }
  },
  "nbformat": 4,
  "nbformat_minor": 0
}
