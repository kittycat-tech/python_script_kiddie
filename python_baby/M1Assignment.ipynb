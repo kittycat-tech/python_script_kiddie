{
  "cells": [
    {
      "cell_type": "code",
      "execution_count": 19,
      "metadata": {
        "id": "sN1mKtoqmy6v"
      },
      "outputs": [],
      "source": [
        "import datetime"
      ]
    },
    {
      "cell_type": "markdown",
      "metadata": {
        "id": "cnAUJprJdh9_"
      },
      "source": [
        "# Welcome to our first assignment!"
      ]
    },
    {
      "cell_type": "markdown",
      "metadata": {},
      "source": [
        "Assignment Provider: University of Colorado, Boulder"
      ]
    },
    {
      "cell_type": "markdown",
      "metadata": {
        "id": "vVYcayGedmms"
      },
      "source": [
        "This assignment is about testing your understanding of **print()** and **input()**. We are going to create some interactive programs using these two simple tools. Are you ready? Let's get started!"
      ]
    },
    {
      "cell_type": "markdown",
      "metadata": {
        "id": "JP8eGBVyeSQx"
      },
      "source": [
        "You will find some small tasks in sections below. You should use input() to get the user to enter the information and use print() to print the information on the screen."
      ]
    },
    {
      "cell_type": "markdown",
      "metadata": {
        "id": "TNbXeCDFeAcJ"
      },
      "source": [
        "## Prepare a document"
      ]
    },
    {
      "cell_type": "markdown",
      "metadata": {
        "id": "EZ42d1Sue0Zp"
      },
      "source": [
        "###Instruction: You are going to print a document on the screen. The document is a template, which has {} as place holder and should get inputs from the user. Let's get it done step by step.\n",
        "\n",
        "You should use multiple input() to get the information from the user.\n",
        "\n",
        "The template is as below:\n",
        "\n",
        "Dear **{receiver's name}**:\n",
        "\n",
        "This is **{your first name}**. I'm writing to let you know that the weather in **{your location}** is fantastic!\n",
        "\n",
        "I'm taking Python for Data Science course. I have coded **{#}** programs and the expereince was fun! Join me if you are interested!\n",
        "\n",
        "Sincerely,\n",
        "\n",
        "**{your full name}**\n",
        "\n",
        "**{date}**"
      ]
    },
    {
      "cell_type": "markdown",
      "metadata": {
        "id": "DyQ1h_lc-GPr"
      },
      "source": [
        "Step1: Get receiver's name, and print line 1:\n",
        "\n",
        "Dear **{receiver's name}**:"
      ]
    },
    {
      "cell_type": "code",
      "execution_count": 16,
      "metadata": {
        "colab": {
          "base_uri": "https://localhost:8080/"
        },
        "id": "TQXvwhRN-E5y",
        "outputId": "12890cd3-c64b-40c7-c26e-62fdda083327"
      },
      "outputs": [
        {
          "name": "stdout",
          "output_type": "stream",
          "text": [
            "Who is the receiver of this letter? Mishka the chonky meow\n",
            "Dear Mishka the chonky meow:\n"
          ]
        }
      ],
      "source": [
        "# Enter your code here\n",
        "receiver = input(\"Who is the receiver of this letter? \")\n",
        "print(f\"Dear {receiver}:\")"
      ]
    },
    {
      "cell_type": "markdown",
      "metadata": {
        "id": "qTOkvVoP-iIC"
      },
      "source": [
        "Step2: Get your first name, your location and print line 2:\n",
        "\n",
        "This is **{your first name}**. I'm writing to let you know that the weather in **{your location}** is fantastic!"
      ]
    },
    {
      "cell_type": "code",
      "execution_count": 18,
      "metadata": {
        "colab": {
          "base_uri": "https://localhost:8080/"
        },
        "id": "28aI1cPg-bhz",
        "outputId": "671bfbd8-d5da-4ee9-94e6-76d31fcb2af5"
      },
      "outputs": [
        {
          "name": "stdout",
          "output_type": "stream",
          "text": [
            "Enter your first name your mama Kittycat\n",
            "This is your mama Kittycat.\n"
          ]
        }
      ],
      "source": [
        "# Enter your code here\n",
        "my_first_name = input(\"Enter your first name \")\n",
        "print(f\"This is {my_first_name}.\")"
      ]
    },
    {
      "cell_type": "markdown",
      "metadata": {
        "id": "EJvVv9Ru-uQb"
      },
      "source": [
        "Step3: Get the number of programs you have practiced, and print line 3:\n",
        "\n",
        "I'm taking Python for Data Science course. I have coded **{# of programs}** programs and the expereince was fun! Join me if you are interested!"
      ]
    },
    {
      "cell_type": "code",
      "execution_count": 26,
      "metadata": {
        "colab": {
          "base_uri": "https://localhost:8080/"
        },
        "id": "A_KiRedV-b-R",
        "outputId": "1b3dea19-6158-4ec1-d1a8-6968e1ea0a44"
      },
      "outputs": [
        {
          "name": "stdout",
          "output_type": "stream",
          "text": [
            "Enter number of programs you have coded:10\n",
            "I'm taking Python for Data Science course. I have coded 10 programs and the expereince was fun! Join me if you are interested meow!\n"
          ]
        }
      ],
      "source": [
        "# Enter your code here\n",
        "number_of_programs = int(input(\"Enter number of programs you have coded:\"))\n",
        "print(f\"I'm taking Python for Data Science course. I have coded {number_of_programs} programs and the expereince was fun! Join me if you are interested meow!\")"
      ]
    },
    {
      "cell_type": "markdown",
      "metadata": {
        "id": "tkwCW8WxlG9P"
      },
      "source": []
    },
    {
      "cell_type": "markdown",
      "metadata": {
        "id": "Vcorzmiw--mY"
      },
      "source": [
        "Step 4: print line 4:\n",
        "\n",
        "Sincerely,"
      ]
    },
    {
      "cell_type": "code",
      "execution_count": 11,
      "metadata": {
        "colab": {
          "base_uri": "https://localhost:8080/"
        },
        "id": "D5ecQStI-cLa",
        "outputId": "ac13643b-ded4-40a8-fdc2-a4b259e50a01"
      },
      "outputs": [
        {
          "name": "stdout",
          "output_type": "stream",
          "text": [
            "Sincerely, \n"
          ]
        }
      ],
      "source": [
        "# Enter your code here\n",
        "print(\"Sincerely, \")"
      ]
    },
    {
      "cell_type": "markdown",
      "metadata": {
        "id": "G30-dTVm_K8x"
      },
      "source": [
        "Step 5: Get your full name and print line 5:\n",
        "\n",
        "**{your full name}**"
      ]
    },
    {
      "cell_type": "code",
      "execution_count": 13,
      "metadata": {
        "colab": {
          "base_uri": "https://localhost:8080/"
        },
        "id": "944wmoQl_S_K",
        "outputId": "da7e9378-dc57-4663-8111-18f05a7036f5"
      },
      "outputs": [
        {
          "name": "stdout",
          "output_type": "stream",
          "text": [
            "Erica Meow\n"
          ]
        }
      ],
      "source": [
        "# Enter your code here\n",
        "print(f\"{my_first_name} Meow\")"
      ]
    },
    {
      "cell_type": "markdown",
      "metadata": {
        "id": "3i-SsAvT_BT6"
      },
      "source": [
        "Step 6: Get today's date and print line 6:\n",
        "\n",
        "**{date}**"
      ]
    },
    {
      "cell_type": "code",
      "execution_count": 22,
      "metadata": {
        "colab": {
          "base_uri": "https://localhost:8080/"
        },
        "id": "OFGPKomw-cXR",
        "outputId": "9759b989-aee8-4c95-aa30-ab05c55fb41f"
      },
      "outputs": [
        {
          "name": "stdout",
          "output_type": "stream",
          "text": [
            "19 April 2024\n"
          ]
        }
      ],
      "source": [
        "# Enter your code here\n",
        "date_today = datetime.datetime.now().date()\n",
        "print(date_today.strftime(\"%d %B %Y\"))"
      ]
    },
    {
      "cell_type": "markdown",
      "metadata": {
        "id": "7Ysdu7UJ_qf8"
      },
      "source": [
        "**Congratulations! You finished Assignment 1 and completed Module 1!**"
      ]
    }
  ],
  "metadata": {
    "colab": {
      "provenance": []
    },
    "kernelspec": {
      "display_name": "Python 3",
      "name": "python3"
    },
    "language_info": {
      "name": "python"
    }
  },
  "nbformat": 4,
  "nbformat_minor": 0
}
