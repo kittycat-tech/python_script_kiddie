{
  "nbformat": 4,
  "nbformat_minor": 0,
  "metadata": {
    "colab": {
      "provenance": [],
      "toc_visible": true
    },
    "kernelspec": {
      "name": "python3",
      "display_name": "Python 3"
    },
    "language_info": {
      "name": "python"
    }
  },
  "cells": [
    {
      "cell_type": "markdown",
      "metadata": {
        "id": "cnAUJprJdh9_"
      },
      "source": [
        "# Welcome to our Lab Practice!"
      ]
    },
    {
      "cell_type": "markdown",
      "metadata": {
        "id": "vVYcayGedmms"
      },
      "source": [
        "\n",
        "This lab is about logical and relational operations. Are you ready? Let's get started!"
      ]
    },
    {
      "cell_type": "markdown",
      "metadata": {
        "id": "JP8eGBVyeSQx"
      },
      "source": [
        "You will find some small tasks in sections below."
      ]
    },
    {
      "cell_type": "markdown",
      "metadata": {
        "id": "TNbXeCDFeAcJ"
      },
      "source": [
        "## Relational Operation\n",
        "\n",
        "In this section, you are going to code and run relational operations of two numbers.\n",
        "\n",
        "Hint: to print out the comparison, we can use the print() to print multiple values out.\n",
        "\n",
        "For example, `print(x, 'operator', y, 'is', x operator y)` for an operator."
      ]
    },
    {
      "cell_type": "markdown",
      "metadata": {
        "id": "hhAeaPrjTLRT"
      },
      "source": [
        "###Task: Get some comparisons.\n",
        "\n",
        "1.   Assign x with 2, y with 3.\n",
        "2.   print out the comparison and result of\n",
        "  1.   x > y\n",
        "  2.   x >= y\n",
        "  3.   x == y\n",
        "  4.   x <= y\n",
        "  5.   x < y\n",
        "  6.   x != y\n",
        "\n",
        "\n",
        "\n"
      ]
    },
    {
      "cell_type": "code",
      "metadata": {
        "id": "v4jLx-_gTIFA",
        "colab": {
          "base_uri": "https://localhost:8080/"
        },
        "outputId": "351c9bf0-167d-49c9-d6f4-c44a19cb4a73"
      },
      "source": [
        "# type your code here\n",
        "x = 2\n",
        "y = 3\n",
        "comparisons = {\n",
        "    \"x > y\": x > y ,\n",
        "    \"x >= y\": x >= y,\n",
        "    \"x == y\":  x == y,\n",
        "    \"x <= y\" : x <= y,\n",
        "    \"x < y \": x < y,\n",
        "    \"x != y\": x != y\n",
        "}\n",
        "\n",
        "for name, comparison in comparisons.items():\n",
        "    print(f\"{name} is {comparison}\")"
      ],
      "execution_count": 5,
      "outputs": [
        {
          "output_type": "stream",
          "name": "stdout",
          "text": [
            "x > y is False\n",
            "x >= y is False\n",
            "x == y is False\n",
            "x <= y is True\n",
            "x < y  is True\n",
            "x != y is True\n"
          ]
        }
      ]
    },
    {
      "cell_type": "markdown",
      "metadata": {
        "id": "EZ42d1Sue0Zp"
      },
      "source": [
        "###Task: More comparisons\n",
        "\n",
        "1.   Ask the user to enter an integer, convert and assign it to x;\n",
        "2.   Ask the user to enter another integer, convert and assign it to y;\n",
        "3.   print out the comparison and result of\n",
        "  1.   x > y\n",
        "  2.   x >= y\n",
        "  3.   x == y\n",
        "  4.   x <= y\n",
        "  5.   x < y\n",
        "  6.   x != y"
      ]
    },
    {
      "cell_type": "code",
      "metadata": {
        "id": "e4UI_UJpU-7q",
        "colab": {
          "base_uri": "https://localhost:8080/"
        },
        "outputId": "c43334ab-bc8c-4081-c890-9c2e3381a454"
      },
      "source": [
        "# type your code here\n",
        "x = int(input(\"Enter an integer to represent your ex (x): \"))\n",
        "y = int(input(\"Enter an integer to represent your why (y): \"))\n",
        "\n",
        "comparisons = {\n",
        "    \"x > y\": x > y ,\n",
        "    \"x >= y\": x >= y,\n",
        "    \"x == y\":  x == y,\n",
        "    \"x <= y\" : x <= y,\n",
        "    \"x < y \": x < y,\n",
        "    \"x != y\": x != y\n",
        "}\n",
        "\n",
        "for name, comparison in comparisons.items():\n",
        "    print(f\"{name} is {comparison}\")\n",
        "\n",
        "# Your ex and why are for pun intention only :)"
      ],
      "execution_count": 6,
      "outputs": [
        {
          "output_type": "stream",
          "name": "stdout",
          "text": [
            "Enter an integer to represent your ex (x): 666\n",
            "Enter an integer to represent your why (y): 888\n",
            "x > y is False\n",
            "x >= y is False\n",
            "x == y is False\n",
            "x <= y is True\n",
            "x < y  is True\n",
            "x != y is True\n"
          ]
        }
      ]
    },
    {
      "cell_type": "markdown",
      "metadata": {
        "id": "D8pWdoN7d6Dy"
      },
      "source": [
        "## Logical Operation\n",
        "\n",
        "In this section, you are going to code and run logical operations of two numbers.\n",
        "\n",
        "Hint: to print out the equation, we can use the print() to print multiple values out.\n",
        "\n",
        "For example, `print(x, 'operator', y, 'is', x operator y)` for an operator."
      ]
    },
    {
      "cell_type": "markdown",
      "metadata": {
        "id": "xDZeMhFteYjE"
      },
      "source": [
        "###Task: Get some computation.\n",
        "\n",
        "1.   Assign x with True, y with False.\n",
        "2.   print out the computation and result of\n",
        "  1.   x and x\n",
        "  2.   x and y\n",
        "  3.   y and x\n",
        "  4.   y and y\n",
        "  5.   x or x\n",
        "  6.   x or y\n",
        "  7.   y or x\n",
        "  8.   y or y\n",
        "  9.   not x\n",
        "  10.   not y\n",
        "\n",
        "\n",
        "\n"
      ]
    },
    {
      "cell_type": "code",
      "metadata": {
        "id": "yDzNIHsSeu85",
        "colab": {
          "base_uri": "https://localhost:8080/"
        },
        "outputId": "95e9ae1c-4c11-4995-9d4e-54e4a6beeccf"
      },
      "source": [
        "# type your code here\n",
        "x = True\n",
        "y = False\n",
        "computations = {\n",
        "    \"x and x\": x and x,\n",
        "    \"x and y\": x and y,\n",
        "   \"y and x\" : y and x,\n",
        "    \"y and y\": y and y,\n",
        "    \"x or x\": x or x,\n",
        "    \"x or y\": x or y,\n",
        "    \"y or x\": y or x,\n",
        "    \"y or y\": y or y,\n",
        "    \"not x\": not x,\n",
        "    \"not y\": not y\n",
        "}\n",
        "\n",
        "for name, computation in computations.items():\n",
        "    print(f\"{name} is {computation}\")"
      ],
      "execution_count": 10,
      "outputs": [
        {
          "output_type": "stream",
          "name": "stdout",
          "text": [
            "x and x is True\n",
            "x and y is False\n",
            "y and x is False\n",
            "y and y is False\n",
            "x or x is True\n",
            "x or y is True\n",
            "y or x is True\n",
            "y or y is False\n",
            "not x is False\n",
            "not y is True\n"
          ]
        }
      ]
    }
  ]
}