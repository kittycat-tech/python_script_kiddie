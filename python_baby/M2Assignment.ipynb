{
  "cells": [
    {
      "cell_type": "markdown",
      "metadata": {
        "id": "cnAUJprJdh9_"
      },
      "source": [
        "# Welcome to our second assignment!"
      ]
    },
    {
      "cell_type": "markdown",
      "metadata": {
        "id": "vVYcayGedmms"
      },
      "source": [
        "Provided by: University of Colorado, Boulder. This assignment is about testing your understanding of variables and operations.\n",
        "\n",
        "We are going to create some simple programs using these tools. Are you ready? Let's get started!"
      ]
    },
    {
      "cell_type": "markdown",
      "metadata": {
        "id": "JP8eGBVyeSQx"
      },
      "source": [
        "You will find some small tasks in sections below. You should use input() to get the user to enter the information and use print() to print the information on the screen. At this moment, we can assume users will follow instructions carefully - they will enter the valid inputs as required."
      ]
    },
    {
      "cell_type": "markdown",
      "metadata": {
        "id": "TNbXeCDFeAcJ"
      },
      "source": [
        "## Simple check out\n",
        "\n",
        "###Instruction: You are going to program a super simple check-out system for a store. This store has an interesting rule that every customer can only buy one product (the quantity of the product is not limited) in one order.\n",
        "\n",
        "step1: Ask the user to enter the price / unit of the product (it should be a float)\n",
        "\n",
        "step2: Ask the user to enter the quantity of the product (it should be an integer)\n",
        "\n",
        "step3: We have a sales tax at 6.25%\n",
        "\n",
        "step4: Calculate and display the total amount of this order (for example, 59.25)\n",
        "\n",
        "step5: Ask the user to enter the amount of bills paid (for example, 60)\n",
        "\n",
        "step6: Calculate and display the change (for example, 0.75)"
      ]
    },
    {
      "cell_type": "code",
      "execution_count": 15,
      "metadata": {
        "colab": {
          "base_uri": "https://localhost:8080/"
        },
        "id": "x6IbZ6rFw76O",
        "outputId": "24f7026d-e23f-431a-d427-3eefcc7051ad"
      },
      "outputs": [
        {
          "name": "stdout",
          "output_type": "stream",
          "text": [
            "Enter the price of one product in USD1: 10\n",
            "Enter the quantity of the product: 1\n",
            "Sales tax: $0.625\n",
            "Total price: $10.625\n",
            "Enter the amount of bills you would pay with: 100\n",
            "You paid: $100\n",
            "Your change is: $89.375. Thank you for your payment!\n"
          ]
        }
      ],
      "source": [
        "# your code is here\n",
        "\n",
        "#step1: Ask the user to enter the price / unit of the product (it should be a float)\n",
        "price = float(input(f\"Enter the price of one product in USD1: \"))\n",
        "\n",
        "#step2: Ask the user to enter the quantity of the product (it should be an integer)\n",
        "quantity = int(input(f\"Enter the quantity of the product: \"))\n",
        "\n",
        "#step3: We have a sales tax at 6.25%\n",
        "sales_tax = price * quantity * 0.0625\n",
        "print(f\"Sales tax: ${sales_tax}\")\n",
        "\n",
        "#step4: Calculate and display the total amount of this order (for example, 59.25)\n",
        "total_price = price * quantity + sales_tax\n",
        "print(f\"Total price: ${total_price}\")\n",
        "\n",
        "#step5: Ask the user to enter the amount of bills paid (for example, 60)\n",
        "payment = int(input(f\"Enter the amount of bills you would pay with: \"))\n",
        "print(f\"You paid: ${payment}\")\n",
        "\n",
        "#step6: Calculate and display the change (for example, 0.75)\n",
        "change = payment - total_price\n",
        "print(f\"Your change is1: ${change}. Thank you for your payment!\")\n"
      ]
    },
    {
      "cell_type": "markdown",
      "metadata": {
        "id": "fZfiqg5lxFKF"
      },
      "source": [
        "## Tips Split\n",
        "\n",
        "###Instruction: You are going to program a super simple tip split system.\n",
        "\n",
        "step1: Ask the user to enter the total amount of meal before tax (it should be a float)\n",
        "\n",
        "step2: Ask the user to enter the number of people to split the tips (it should be an integer)\n",
        "\n",
        "step3: We have a sales tax at 6.25%, and we tip at 18%\n",
        "\n",
        "step4: Calculate and display the total amount due  (including tax and tips)\n",
        "\n",
        "step5: Calculate and display the amount each person should pay."
      ]
    },
    {
      "cell_type": "code",
      "execution_count": 23,
      "metadata": {
        "colab": {
          "base_uri": "https://localhost:8080/"
        },
        "id": "2bODNGPSx1-m",
        "outputId": "4aac1e1f-3baa-46ae-8112-5c9fd2bec263"
      },
      "outputs": [
        {
          "name": "stdout",
          "output_type": "stream",
          "text": [
            "Enter the total amount of meal before tax: $100\n",
            "Enter the number of people to split the payment: 5\n",
            "Sales tax is $6.25 and tip cost is $18.0\n",
            "Total amount due is: $124.25\n",
            "Each person should pay the amount: $24.0\n",
            "If splitting the tips only, each person should pay $3.6\n"
          ]
        }
      ],
      "source": [
        "# your code is here\n",
        "#step1: Ask the user to enter the total amount of meal before tax (it should be a float)\n",
        "pre_tax_cost = float(input(f\"Enter the total amount of meal before tax: $\"))\n",
        "\n",
        "#step2: Ask the user to enter the number of people to split the tips (it should be an integer)\n",
        "people = int(input(f\"Enter the number of people to split the payment: \"))\n",
        "\n",
        "#step3: We have a sales tax at 6.25%, and we tip at 18%\n",
        "sales_tax = pre_tax_cost * 0.0625\n",
        "tip = pre_tax_cost * 0.18\n",
        "print(f\"Sales tax is ${sales_tax} and tip cost is ${tip}\")\n",
        "\n",
        "#step4: Calculate and display the total amount due (including tax and tips)\n",
        "total_cost = pre_tax_cost + sales_tax + tip\n",
        "print(f\"Total amount due is: ${total_cost}\")\n",
        "\n",
        "#step5: Calculate and display the amount each person should pay.\n",
        "each_person_pays = total_cost // people\n",
        "print(f\"Each person should pay the amount: ${each_person_pays}\")\n",
        "print(f\"If splitting the tips only, each person should pay ${tip/people}\")\n",
        "\n"
      ]
    },
    {
      "cell_type": "markdown",
      "metadata": {
        "id": "cZmW-HnwyHcI"
      },
      "source": [
        "## Compound Interest\n",
        "\n",
        "###Instruction: You are going to program a super simple Compound Interest calcualtor.\n",
        "\n",
        "step1: Ask the user to enter the amount saving right now (it should be a float)\n",
        "\n",
        "step2: Ask the user to enter the number of years(it should be an integer)\n",
        "\n",
        "step3: Ask the user to enter the interest rate (it should be a float number, and 0.03 represents 3%)\n",
        "\n",
        "step4: Calculate and display the total amount after these years"
      ]
    },
    {
      "cell_type": "code",
      "execution_count": 31,
      "metadata": {
        "colab": {
          "base_uri": "https://localhost:8080/"
        },
        "id": "wk6FHvAvyr_G",
        "outputId": "b7d4e7db-0c38-4a8a-d3a9-96b71e040f93"
      },
      "outputs": [
        {
          "name": "stdout",
          "output_type": "stream",
          "text": [
            "Enter your deposit savings amount: $1000\n",
            "Enter the number of years you want your savings to be deposited: 5\n",
            "Enter your preferred interest rate in decimals: 0.10\n",
            "With an initial deposit of $1000.0 and saving for 5 years at a 0.1 annual interest rate, your total savings would be $5500.0, with $500.0 earned in interest.\n",
            "Total savings amount would be $5500.0 if you deposit $1000.0 in 5 years, given the interest earning of $500.0\n"
          ]
        }
      ],
      "source": [
        "# your code is here\n",
        "#step1: Ask the user to enter the amount saving right now (it should be a float)\n",
        "savings = float(input(f\"Enter your deposit savings amount: $\"))\n",
        "\n",
        "#step2: Ask the user to enter the number of years(it should be an integer)\n",
        "years = int(input(f\"Enter the number of years you want your savings to be deposited: \"))\n",
        "\n",
        "#step3: Ask the user to enter the interest rate (it should be a float number, and 0.03 represents 3%)\n",
        "interest_rate = float(input(f\"Enter your preferred interest rate in decimals: \"))\n",
        "\n",
        "#step4: Calculate and display the total amount after these years\n",
        "total_amount = savings* (1+interest_rate) *years\n",
        "total_interest_earnings = interest_rate *savings * years\n",
        "print(f\"With an initial deposit of ${savings} and saving for {years} years at a {interest_rate} annual interest rate, your total savings would be ${total_amount}, with ${total_interest_earnings} earned in interest.\")\n",
        "print(f\"Total savings amount would be ${total_amount} if you deposit ${savings} in {years} years, given the interest earning of ${total_interest_earnings}\")\n"
      ]
    },
    {
      "cell_type": "markdown",
      "metadata": {
        "id": "7Ysdu7UJ_qf8"
      },
      "source": [
        "**Congratulations! You finished this Assignment and completed Module 2!**"
      ]
    }
  ],
  "metadata": {
    "colab": {
      "provenance": [],
      "toc_visible": true
    },
    "kernelspec": {
      "display_name": "Python 3",
      "name": "python3"
    },
    "language_info": {
      "name": "python"
    }
  },
  "nbformat": 4,
  "nbformat_minor": 0
}
