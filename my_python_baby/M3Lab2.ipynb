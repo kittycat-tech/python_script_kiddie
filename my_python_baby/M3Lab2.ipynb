{
  "nbformat": 4,
  "nbformat_minor": 0,
  "metadata": {
    "colab": {
      "provenance": [],
      "toc_visible": true
    },
    "kernelspec": {
      "name": "python3",
      "display_name": "Python 3"
    },
    "language_info": {
      "name": "python"
    }
  },
  "cells": [
    {
      "cell_type": "markdown",
      "metadata": {
        "id": "cnAUJprJdh9_"
      },
      "source": [
        "# Welcome to our Lab Practice!"
      ]
    },
    {
      "cell_type": "markdown",
      "source": [
        "Practice sheet provider: University of Colorado, Boulder (USA)  || FileName: M3Lab2  || Course: Introduction to Python Fundamentals"
      ],
      "metadata": {
        "id": "4XlCNbThxQGg"
      }
    },
    {
      "cell_type": "markdown",
      "metadata": {
        "id": "vVYcayGedmms"
      },
      "source": [
        "This lab is about branching - if-else statements. Are you ready? Let's get started!"
      ]
    },
    {
      "cell_type": "markdown",
      "metadata": {
        "id": "JP8eGBVyeSQx"
      },
      "source": [
        "You will find some small tasks in sections below."
      ]
    },
    {
      "cell_type": "markdown",
      "metadata": {
        "id": "EZ42d1Sue0Zp"
      },
      "source": [
        "###Task: Check if the weather is good for hiking.\n",
        "\n",
        "You should ask the user to enter a float value as the temporature in Fahrenheit.\n",
        "*   If the temporature is within [60, 80], print \"Perfect\";\n",
        "*   otherwise, print \"Not that good\"."
      ]
    },
    {
      "cell_type": "code",
      "metadata": {
        "id": "yDzNIHsSeu85",
        "colab": {
          "base_uri": "https://localhost:8080/"
        },
        "outputId": "2f6e9d6c-ba48-414e-fe8d-19b5da4ac0b4"
      },
      "source": [
        "# type your code here\n",
        "temperature = float(input(\"Please enter the current temperature in Fahrenheit: \"))\n",
        "\n",
        "if  60 <= temperature <= 80:\n",
        "  print(\"Perfect!\")\n",
        "else:\n",
        "  print(\"Not that good\")"
      ],
      "execution_count": 3,
      "outputs": [
        {
          "output_type": "stream",
          "name": "stdout",
          "text": [
            "Please enter the current temperature in Fahrenheit: 69\n",
            "Perfect!\n"
          ]
        }
      ]
    },
    {
      "cell_type": "markdown",
      "metadata": {
        "id": "u8WEYfEqIbWX"
      },
      "source": [
        "###Task: Check if the user feels happy\n",
        "\n",
        "You should ask the user \"Are you happy now?\".\n",
        "*   If the user enters \"Yes\", print \"Fantastic!\"\n",
        "*   otherwise, print \"How can I help?\""
      ]
    },
    {
      "cell_type": "code",
      "metadata": {
        "id": "LKSmcHRRJUYY",
        "colab": {
          "base_uri": "https://localhost:8080/"
        },
        "outputId": "2c09bb2b-665e-428d-fc8a-a627902bc0e0"
      },
      "source": [
        "# type your code here\n",
        "user = str(input(\"Are you happy now? Yes or No \"))\n",
        "\n",
        "if user.upper() == \"YES\":\n",
        "  print(\"Fantastic!\")\n",
        "else:\n",
        "  print(\"How can I help you?\")\n",
        "\n",
        "# I appended the upper method to solve case sensitivity"
      ],
      "execution_count": 13,
      "outputs": [
        {
          "output_type": "stream",
          "name": "stdout",
          "text": [
            "Are you happy now? Yes or No yEs\n",
            "Fantastic!\n"
          ]
        }
      ]
    },
    {
      "cell_type": "markdown",
      "metadata": {
        "id": "-__o8ovbfSEH"
      },
      "source": [
        "###Task: check if your plants need water\n",
        "\n",
        "You should ask the user to enter an integer indicating the level of moisture of the soil (from 1: super dry; to 10: super wet).\n",
        "\n",
        "*   If the level is below 3, print \"Yes, you should water your plants now\"\n",
        "*   otherwise, print \"No. Wait for the soil to be dryer\"."
      ]
    },
    {
      "cell_type": "code",
      "metadata": {
        "id": "hOpxhSKog18Y",
        "colab": {
          "base_uri": "https://localhost:8080/"
        },
        "outputId": "2a3331a4-094b-484a-b5d1-a9f1762bd4ef"
      },
      "source": [
        "# your code will be here\n",
        "level = int(input(\"Indicate your soil's moisture level, from 1: super dry; to 10: super wet. Positive integers only: \"))\n",
        "\n",
        "if level < 3:\n",
        "  print(\"Yes, you should water your plants now.\")\n",
        "if level >= 3:\n",
        "  print(\"No. Wait for the soil to be dryer\")"
      ],
      "execution_count": 16,
      "outputs": [
        {
          "output_type": "stream",
          "name": "stdout",
          "text": [
            "Indicate your soil's moisture level, from 1: super dry; to 10: super wet. Positive integers only: 2\n",
            "Yes, you should water your plants now.\n"
          ]
        }
      ]
    },
    {
      "cell_type": "markdown",
      "metadata": {
        "id": "8fGRh5FviHXB"
      },
      "source": [
        "###Task: check if a student finished Lab2\n",
        "\n",
        "At first, ask the user: \"Do you care about your learning outcome?\"\n",
        "\n",
        "*    If yes, ask the user \"Have your finished M3Lab2?\"\n",
        "**    if yes, print \"Good job!\"\n",
        "**    If no, print \"Get it done ASAP!!!!!!\"\n",
        "*    If no, then print \"As long as you are happy.\""
      ]
    },
    {
      "cell_type": "code",
      "metadata": {
        "id": "OSnp3ZYuiiUj",
        "colab": {
          "base_uri": "https://localhost:8080/"
        },
        "outputId": "f7ff4274-dacc-4e7c-c607-04b014ca81da"
      },
      "source": [
        "# your code will be here\n",
        "answer = str(input(\"Do you care about your learning outcome? Yes or No \"))\n",
        "\n",
        "if answer.upper() == \"YES\":\n",
        "  message = str(input(\"Have your finished M3Lab2? Yes or no \"))\n",
        "  if message.upper() == \"YES\":\n",
        "    print(\"Good job!\")\n",
        "  else:\n",
        "    print(\"Get it done ASAP!!!!!!\")\n",
        "else:\n",
        "  print(\"As long as you are happy.\")"
      ],
      "execution_count": 28,
      "outputs": [
        {
          "output_type": "stream",
          "name": "stdout",
          "text": [
            "Do you care about your learning outcome? Yes or No yeS\n",
            "Have your finished M3Lab2? Yes or no YES\n",
            "Good job!\n"
          ]
        }
      ]
    }
  ]
}