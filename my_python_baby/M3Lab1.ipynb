{
  "nbformat": 4,
  "nbformat_minor": 0,
  "metadata": {
    "colab": {
      "provenance": [],
      "toc_visible": true
    },
    "kernelspec": {
      "name": "python3",
      "display_name": "Python 3"
    },
    "language_info": {
      "name": "python"
    }
  },
  "cells": [
    {
      "cell_type": "markdown",
      "metadata": {
        "id": "cnAUJprJdh9_"
      },
      "source": [
        "# Welcome to our Lab Practice!"
      ]
    },
    {
      "cell_type": "markdown",
      "source": [
        "Practice sheet provider: University of Colorado, Boulder (USA)    || File Name: M3Lab1 ||\n",
        "Course: Python Fundamentals"
      ],
      "metadata": {
        "id": "qEhJrWQgeDul"
      }
    },
    {
      "cell_type": "markdown",
      "metadata": {
        "id": "vVYcayGedmms"
      },
      "source": [
        "This lab is about branching - if statements. Are you ready? Let's get started!"
      ]
    },
    {
      "cell_type": "markdown",
      "metadata": {
        "id": "JP8eGBVyeSQx"
      },
      "source": [
        "You will find some small tasks in sections below."
      ]
    },
    {
      "cell_type": "markdown",
      "metadata": {
        "id": "EZ42d1Sue0Zp"
      },
      "source": [
        "###Task: check if a number is even.\n",
        "\n",
        "You should ask the user to enter an integer, if it is an even number, print \"it is even\"; otherwise, print nothing.\n",
        "\n",
        "hint: to test if a number is even, we need to use %2 and check the reminder is 0 or not. If it is 0, then the number is even."
      ]
    },
    {
      "cell_type": "code",
      "metadata": {
        "id": "yDzNIHsSeu85",
        "colab": {
          "base_uri": "https://localhost:8080/"
        },
        "outputId": "2a39bbfc-dd55-4555-b31a-b1ed8ea3c00d"
      },
      "source": [
        "# type your code here\n",
        "x = int(input(\"Please enter an integer:\"))\n",
        "\n",
        "if x % 2 == 0:\n",
        "  print(f\"{x} is an even number\")\n",
        "else:\n",
        "  print(f\"{x} is an odd number\")"
      ],
      "execution_count": 5,
      "outputs": [
        {
          "output_type": "stream",
          "name": "stdout",
          "text": [
            "Please enter an integer:10\n",
            "10 is an even number\n"
          ]
        }
      ]
    },
    {
      "cell_type": "markdown",
      "metadata": {
        "id": "u8WEYfEqIbWX"
      },
      "source": [
        "###Task: check if a number is odd.\n",
        "\n",
        "Similar to the task above. However, this time, you only print \"It is odd\" when the number entered is odd."
      ]
    },
    {
      "cell_type": "code",
      "metadata": {
        "id": "LKSmcHRRJUYY",
        "colab": {
          "base_uri": "https://localhost:8080/"
        },
        "outputId": "13639e0d-1f61-4340-ffad-6f797a8914ae"
      },
      "source": [
        "# type your code here\n",
        "x = int(input(\"Please enter an integer:\"))\n",
        "\n",
        "if x % 2 == 0:\n",
        "  print(f\"{x} is an even number\")\n",
        "else:\n",
        "  print(f\"{x} is an odd number\")"
      ],
      "execution_count": 6,
      "outputs": [
        {
          "output_type": "stream",
          "name": "stdout",
          "text": [
            "Please enter an integer:25\n",
            "25 is an odd number\n"
          ]
        }
      ]
    },
    {
      "cell_type": "markdown",
      "metadata": {
        "id": "-__o8ovbfSEH"
      },
      "source": [
        "###Task: check if a number is divisible by 6\n",
        "\n",
        "You should ask the user to enter an integer, if it is dividable by 6, print \"It can be divisible by 6\"."
      ]
    },
    {
      "cell_type": "code",
      "metadata": {
        "id": "hOpxhSKog18Y",
        "colab": {
          "base_uri": "https://localhost:8080/"
        },
        "outputId": "a4a753d1-648d-4b6e-f354-fcefc3cfc9e1"
      },
      "source": [
        "# type your code here\n",
        "x = int(input(\"Please enter an integer:\"))\n",
        "\n",
        "if x % 6 == 0:\n",
        "  print(f\"{x} can be divisible by 6\")\n",
        "else:\n",
        "  print(f\"{x} is not evenly divisible by 6, quotient: {x // 6} , remainder: {x % 6}\")\n",
        "\n",
        "# I added the quotient and remainder in the results so I can see them clearly\n"
      ],
      "execution_count": 13,
      "outputs": [
        {
          "output_type": "stream",
          "name": "stdout",
          "text": [
            "Please enter an integer:10\n",
            "10 is not evenly divisible by 6, quotient: 1 , remainder: 4\n"
          ]
        }
      ]
    },
    {
      "cell_type": "markdown",
      "metadata": {
        "id": "uZYVZQIvIlPy"
      },
      "source": [
        "###Task: check if an input is 'STOP'  \n",
        "\n",
        "Ask the user to enter some words, and only when the user entered \"STOP\", you print \"Bye\"."
      ]
    },
    {
      "cell_type": "code",
      "metadata": {
        "id": "Y_3dcyvcQ2GI",
        "colab": {
          "base_uri": "https://localhost:8080/"
        },
        "outputId": "f32a0fe9-6642-4640-cdea-15728de74738"
      },
      "source": [
        "# your code will be here\n",
        "word = str(input(\"Please enter some words. Enter \\\"STOP\\\" to end \" ))\n",
        "\n",
        "if word.upper() == \"STOP\":\n",
        "    print(\"K, Bye!\")\n",
        "else:\n",
        "    print(word)\n",
        "\n",
        "# I appended the method upper() to password, to ensure that the comparison is case-insensitive."
      ],
      "execution_count": 27,
      "outputs": [
        {
          "output_type": "stream",
          "name": "stdout",
          "text": [
            "Please enter some words. Enter \"STOP\" to end sTop\n",
            "K, Bye!\n"
          ]
        }
      ]
    },
    {
      "cell_type": "markdown",
      "metadata": {
        "id": "qKFwdIypmt5J"
      },
      "source": [
        "### Task: Password Setup\n",
        "\n",
        "*   Ask the user to enter a new password.\n",
        "*   Ask the user to enter the password again.\n",
        "*   If the second input matches the first one, print \"You are all set\"\n"
      ]
    },
    {
      "cell_type": "code",
      "metadata": {
        "id": "6pqvFtl8nHei",
        "colab": {
          "base_uri": "https://localhost:8080/"
        },
        "outputId": "a66dad8c-1638-46c7-b29a-2615ddca796d"
      },
      "source": [
        "# your code will be here\n",
        "x = input(\"Enter your new password:\")\n",
        "y = input (\"Enter your new password again:\")\n",
        "\n",
        "if x == y:\n",
        "  print(\"You are all set!\")"
      ],
      "execution_count": 17,
      "outputs": [
        {
          "output_type": "stream",
          "name": "stdout",
          "text": [
            "Enter your new password:meow\n",
            "Enter your new password again:meow\n",
            "You are all set!\n"
          ]
        }
      ]
    }
  ]
}