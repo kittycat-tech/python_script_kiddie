{
  "nbformat": 4,
  "nbformat_minor": 0,
  "metadata": {
    "colab": {
      "provenance": [],
      "toc_visible": true
    },
    "kernelspec": {
      "name": "python3",
      "display_name": "Python 3"
    },
    "language_info": {
      "name": "python"
    }
  },
  "cells": [
    {
      "cell_type": "markdown",
      "metadata": {
        "id": "cnAUJprJdh9_"
      },
      "source": [
        "# Welcome to our Lab Practice!"
      ]
    },
    {
      "cell_type": "markdown",
      "source": [
        "Practice Sheet Provider: University of Colorado, Boulder <br>\n",
        "File Name: M4Lab2"
      ],
      "metadata": {
        "id": "9kqGwUVgB0xB"
      }
    },
    {
      "cell_type": "markdown",
      "metadata": {
        "id": "vVYcayGedmms"
      },
      "source": [
        "This lab is about repetition - for loops. Are you ready? Let's get started!"
      ]
    },
    {
      "cell_type": "markdown",
      "metadata": {
        "id": "JP8eGBVyeSQx"
      },
      "source": [
        "You will find some small tasks in sections below."
      ]
    },
    {
      "cell_type": "markdown",
      "metadata": {
        "id": "dgugXiakzLOB"
      },
      "source": [
        "### Task #1 : Print all even numbers within 20"
      ]
    },
    {
      "cell_type": "code",
      "metadata": {
        "id": "KGdX6n3ZzRtb",
        "colab": {
          "base_uri": "https://localhost:8080/"
        },
        "outputId": "a6008115-8466-4c57-ff82-ca8f96714325"
      },
      "source": [
        "# type your code here\n",
        "\n",
        "#variant A\n",
        "for i in range(0, 21, 2):\n",
        "  print(i)\n",
        "  i =+ 2"
      ],
      "execution_count": 14,
      "outputs": [
        {
          "output_type": "stream",
          "name": "stdout",
          "text": [
            "0\n",
            "2\n",
            "4\n",
            "6\n",
            "8\n",
            "10\n",
            "12\n",
            "14\n",
            "16\n",
            "18\n",
            "20\n"
          ]
        }
      ]
    },
    {
      "cell_type": "code",
      "source": [
        "#variant B\n",
        "for x in range(21):\n",
        "    if x % 2 == 0:\n",
        "        print(x)"
      ],
      "metadata": {
        "colab": {
          "base_uri": "https://localhost:8080/"
        },
        "id": "cgcJtMOn_l6b",
        "outputId": "8e312aa4-c621-4395-e8dc-bb8dfafe0c5d"
      },
      "execution_count": 13,
      "outputs": [
        {
          "output_type": "stream",
          "name": "stdout",
          "text": [
            "0\n",
            "2\n",
            "4\n",
            "6\n",
            "8\n",
            "10\n",
            "12\n",
            "14\n",
            "16\n",
            "18\n",
            "20\n"
          ]
        }
      ]
    },
    {
      "cell_type": "markdown",
      "metadata": {
        "id": "qnE0ig4zzWGU"
      },
      "source": [
        "### Task #2 : Print all numbers divisible by 5 within 100"
      ]
    },
    {
      "cell_type": "code",
      "metadata": {
        "id": "pzHVe6FFzfH_",
        "colab": {
          "base_uri": "https://localhost:8080/"
        },
        "outputId": "b25c7b67-fb8c-4f55-df5a-6784281112bd"
      },
      "source": [
        "# type your code here\n",
        "for i in range(101):\n",
        "  if i % 5 == 0:\n",
        "    print(i)"
      ],
      "execution_count": 15,
      "outputs": [
        {
          "output_type": "stream",
          "name": "stdout",
          "text": [
            "0\n",
            "5\n",
            "10\n",
            "15\n",
            "20\n",
            "25\n",
            "30\n",
            "35\n",
            "40\n",
            "45\n",
            "50\n",
            "55\n",
            "60\n",
            "65\n",
            "70\n",
            "75\n",
            "80\n",
            "85\n",
            "90\n",
            "95\n",
            "100\n"
          ]
        }
      ]
    },
    {
      "cell_type": "markdown",
      "metadata": {
        "id": "EZ42d1Sue0Zp"
      },
      "source": [
        "### Task #3: Print all integers from -5 to 5.\n"
      ]
    },
    {
      "cell_type": "code",
      "metadata": {
        "id": "yDzNIHsSeu85",
        "colab": {
          "base_uri": "https://localhost:8080/"
        },
        "outputId": "93d59db9-d23b-4829-b69e-3d23a7b1d9be"
      },
      "source": [
        "# type your code here\n",
        "for i in range(-5, 6, 1):\n",
        "  print(i)"
      ],
      "execution_count": 16,
      "outputs": [
        {
          "output_type": "stream",
          "name": "stdout",
          "text": [
            "-5\n",
            "-4\n",
            "-3\n",
            "-2\n",
            "-1\n",
            "0\n",
            "1\n",
            "2\n",
            "3\n",
            "4\n",
            "5\n"
          ]
        }
      ]
    },
    {
      "cell_type": "markdown",
      "metadata": {
        "id": "u8WEYfEqIbWX"
      },
      "source": [
        "### Task #4: Print all integers of an interval given by the user\n",
        "\n",
        "Ask the user to enter two integers and print all integers between (including) them."
      ]
    },
    {
      "cell_type": "code",
      "metadata": {
        "id": "LKSmcHRRJUYY",
        "colab": {
          "base_uri": "https://localhost:8080/"
        },
        "outputId": "b461a302-9805-466f-e036-1cc1777152b1"
      },
      "source": [
        "# type your code here\n",
        "first_integer = int(input(\"Please enter the start integer: \"))\n",
        "second_integer = int(input(\"Please enter the end integer: \"))\n",
        "\n",
        "\n",
        "if first_integer <= second_integer:\n",
        "  start = first_integer\n",
        "  end = second_integer\n",
        "else:\n",
        "  start = second_integer\n",
        "  end = first_integer\n",
        "\n",
        "sum = 0\n",
        "\n",
        "for i in range(start, end+1, 1):\n",
        "  print(i)\n",
        "  sum += i\n",
        "  print(sum)\n",
        "\n",
        "print(f\"Sum of all integers from range of {start} up to {end} is {sum}\")\n",
        "\n",
        "#added +1 to the end argument so it gets included in the calculation :)"
      ],
      "execution_count": 17,
      "outputs": [
        {
          "output_type": "stream",
          "name": "stdout",
          "text": [
            "Please enter the start integer: 5\n",
            "Please enter the end integer: 8\n",
            "5\n",
            "5\n",
            "6\n",
            "11\n",
            "7\n",
            "18\n",
            "8\n",
            "26\n",
            "Sum of all integers from range of 5 up to 8 is 26\n"
          ]
        }
      ]
    }
  ]
}