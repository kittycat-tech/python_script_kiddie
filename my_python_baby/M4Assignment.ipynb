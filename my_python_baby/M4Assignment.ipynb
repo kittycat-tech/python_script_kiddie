{
  "nbformat": 4,
  "nbformat_minor": 0,
  "metadata": {
    "colab": {
      "provenance": [],
      "toc_visible": true
    },
    "kernelspec": {
      "name": "python3",
      "display_name": "Python 3"
    },
    "language_info": {
      "name": "python"
    }
  },
  "cells": [
    {
      "cell_type": "markdown",
      "metadata": {
        "id": "cnAUJprJdh9_"
      },
      "source": [
        "# Welcome to our last assignment!"
      ]
    },
    {
      "cell_type": "markdown",
      "source": [
        "Practice sheet provider: University of Colorado, Boulder\n",
        " (USA) <br>\n",
        "Professor Wu , Python Fundamentals online course,\n",
        "M4Assignment"
      ],
      "metadata": {
        "id": "6caXrO-ZoPLp"
      }
    },
    {
      "cell_type": "markdown",
      "metadata": {
        "id": "vVYcayGedmms"
      },
      "source": [
        "This assignment is about testing your understanding of flow control: repetition.\n",
        "\n",
        "We are going to create some simple programs using these tools. Are you ready? Let's get started!"
      ]
    },
    {
      "cell_type": "markdown",
      "metadata": {
        "id": "JP8eGBVyeSQx"
      },
      "source": [
        "You will find some small tasks in sections below. You should use input() to get the user to enter the information and use print() to print the information on the screen. At this moment, we can assume users will follow instructions carefully - they will enter the valid inputs as required."
      ]
    },
    {
      "cell_type": "markdown",
      "metadata": {
        "id": "TNbXeCDFeAcJ"
      },
      "source": [
        "## Task #1 Prime Numbers\n",
        "> Let's be kind to welcome 1 as a prime number for this exercise.\n",
        "\n",
        "### Instruction:\n",
        "\n",
        "Step 1: Ask the user to enter an integer\n",
        "\n",
        "Step 2: find and print all prime numbers up to the integer."
      ]
    },
    {
      "cell_type": "code",
      "metadata": {
        "id": "x6IbZ6rFw76O",
        "colab": {
          "base_uri": "https://localhost:8080/"
        },
        "outputId": "56367846-675a-44d9-a4d9-b61e38d34ab8"
      },
      "source": [
        "# your code is here\n",
        "x = int(input(\"Please enter an integer: \"))\n",
        "\n",
        "prime_numbers = [1,2,3,5,7]\n",
        "\n",
        "for i in range(x+1):\n",
        "  if i in prime_numbers:\n",
        "    print(i)"
      ],
      "execution_count": null,
      "outputs": [
        {
          "output_type": "stream",
          "name": "stdout",
          "text": [
            "Please enter an integer: 10\n",
            "1\n",
            "2\n",
            "3\n",
            "5\n",
            "7\n"
          ]
        }
      ]
    },
    {
      "cell_type": "markdown",
      "metadata": {
        "id": "cZmW-HnwyHcI"
      },
      "source": [
        "## Task #2: A Simple Grade Book\n",
        "\n",
        "###Instruction: You are going to program a simple grade book.\n",
        "\n",
        "step1: Ask the user to enter the number of students in a class\n",
        "\n",
        "step2: Ask the user to enter the grade (in a 0-100 scale) of each student  \n",
        "\n",
        "step3: Calculate and print the average, min, and max grade of the class."
      ]
    },
    {
      "cell_type": "code",
      "metadata": {
        "id": "wk6FHvAvyr_G",
        "colab": {
          "base_uri": "https://localhost:8080/"
        },
        "outputId": "5801418b-6649-401b-f7c7-df32b7bd906c"
      },
      "source": [
        "# your code is here\n",
        "students = int(input(\"Enter the number of students in your class: \"))\n",
        "\n",
        "grades = []\n",
        "for i in range(students):\n",
        "    grade = float(input(f\"Enter the grade of each student in your class {i+1}: \"))\n",
        "    grades.append(grade)\n",
        "\n",
        "average_grade = sum(grades) / students\n",
        "min_grade = min(grades)\n",
        "max_grade = max(grades)\n",
        "\n",
        "print(f\"Average Grade: {average_grade:.2f}\")\n",
        "print(f\"Minimum Grade: {min_grade:.2f}\")\n",
        "print(f\"Maximum Grade: {max_grade:.2f}\")"
      ],
      "execution_count": null,
      "outputs": [
        {
          "output_type": "stream",
          "name": "stdout",
          "text": [
            "Enter the number of students in your class: 5\n",
            "Enter the grade of each student in your class 1: 99.8\n",
            "Enter the grade of each student in your class 2: 98.7\n",
            "Enter the grade of each student in your class 3: 96.5\n",
            "Enter the grade of each student in your class 4: 97.9\n",
            "Enter the grade of each student in your class 5: 99.9\n",
            "Average Grade: 98.56\n",
            "Minimum Grade: 96.50\n",
            "Maximum Grade: 99.90\n"
          ]
        }
      ]
    },
    {
      "cell_type": "markdown",
      "metadata": {
        "id": "UQBB918Z2e9F"
      },
      "source": [
        "## Task #3 : Fahrenheit to Celcius Converter\n",
        "\n",
        "###Instruction: You are going to program a simple converter which converts a Fahrenheit degree to Celcius degree..\n",
        "\n",
        "step1: Ask the user to enter the number in Fahrenheit, (enter stop to quit the program)\n",
        "\n",
        "step2: Calculate the celcius based on the formular c = (f - 32) * 5 / 9\n",
        "\n",
        "step3: print the celcius"
      ]
    },
    {
      "cell_type": "code",
      "metadata": {
        "id": "KCYqU3Sp2cpT",
        "colab": {
          "base_uri": "https://localhost:8080/"
        },
        "outputId": "a3872cb1-b2e1-4aa4-a671-da462e5e4080"
      },
      "source": [
        "# your code is here\n",
        "user_input = input(\"Enter the Fahrenheit temperature (digits only) to convert it into Celsius. Otherwise, enter STOP to quit the program: \")\n",
        "\n",
        "while True:\n",
        "    if user_input.upper() == \"STOP\":\n",
        "        print(\"You successfully exit the program\")\n",
        "        break\n",
        "    elif user_input.replace('.', '', 1).isdigit():\n",
        "        f = float(user_input)\n",
        "        celsius = (f - 32) * 5 / 9\n",
        "        print(f\"{f} Fahrenheit is equivalent to {celsius:.2f} Celsius\")\n",
        "        break\n",
        "    else:\n",
        "        print(\"Invalid input. Please enter a valid Fahrenheit temperature or 'STOP' to quit the program.\")\n",
        "        user_input = input(\"Enter the Fahrenheit temperature (digits only) to convert it into Celsius. Otherwise, enter STOP to quit the program: \")\n",
        "\n",
        "\n"
      ],
      "execution_count": 15,
      "outputs": [
        {
          "output_type": "stream",
          "name": "stdout",
          "text": [
            "Enter the Fahrenheit temperature (digits only) to convert it into Celsius. Otherwise, enter STOP to quit the program: 88\n",
            "88.0 Fahrenheit is equivalent to 31.11 Celsius\n"
          ]
        }
      ]
    },
    {
      "cell_type": "markdown",
      "metadata": {
        "id": "AhO_LPgG3S1R"
      },
      "source": [
        "## Task #4: How many E and e in a sentence?\n",
        "\n",
        "###Instruction: You are going to program a simple counter which finds how many 'E' and 'e' in a sentence entered by the user.\n",
        "\n",
        "step1: Ask the user to enter a sentence\n",
        "\n",
        "step2: Count the number of 'E', and the number of 'e'\n",
        "> hint: You can use a for loop to iterate all the characters in a string, such as `for c in sentence`, then compare `c` with `e` and `E`.\n",
        "\n",
        "step3: print the result"
      ]
    },
    {
      "cell_type": "code",
      "metadata": {
        "id": "2bODNGPSx1-m",
        "colab": {
          "base_uri": "https://localhost:8080/"
        },
        "outputId": "07fdfde7-c434-4c8a-f7be-6b463751b840"
      },
      "source": [
        "# your code is here\n",
        "sentence = str(input(\"Enter a sentence: \"))\n",
        "\n",
        "count_upper_E = 0\n",
        "count_lower_e = 0\n",
        "\n",
        "for character in sentence:\n",
        "    if character == 'E':\n",
        "        count_upper_E += 1\n",
        "    elif character == 'e':\n",
        "        count_lower_e += 1\n",
        "\n",
        "# Step 3: Print the result\n",
        "print(f\"Number of 'E': {count_upper_E}\")\n",
        "print(f\"Number of 'e': {count_lower_e}\")\n"
      ],
      "execution_count": 18,
      "outputs": [
        {
          "output_type": "stream",
          "name": "stdout",
          "text": [
            "Enter a sentence: HELLO hello!\n",
            "Number of 'E': 1\n",
            "Number of 'e': 1\n"
          ]
        }
      ]
    },
    {
      "cell_type": "markdown",
      "metadata": {
        "id": "fZfiqg5lxFKF"
      },
      "source": [
        "## Task #5: Binary Converter (Optional)\n",
        "\n",
        "###Instruction: You are going to program a decimal to binary converter.\n",
        "> Hint: For example, convert decimal 11 to binary number, we follows: 11 % 2 = **1** (you need to record it), 11 // 2 = 5; 5 % 2 = **1** (you need to record it), 5 // 2 = 2; 2 % 2 = **0**, 2 // 2 = **1**. Now you will concatenate them reversly, from the last 1, then the 0, then 1, then 1. You get 1011 as the binary representation of decimal 11.\n",
        "\n",
        "step1: Ask the user to enter a positive decimal integer.\n",
        "\n",
        "step2: Calculate the binary representation of the integer by keep dividing until the reminder is less than 2, keep record of all the reminders.\n",
        "\n",
        "step3: Print reminders as the binary representation."
      ]
    },
    {
      "cell_type": "code",
      "metadata": {
        "id": "6ZAwOiuO5G0X",
        "colab": {
          "base_uri": "https://localhost:8080/"
        },
        "outputId": "4e9c7be1-8b18-4f50-a806-efcae8bd197e"
      },
      "source": [
        "# your code is here\n",
        "\n",
        "input_number = int(float(input(\"Enter a positive decimal: \")))\n",
        "\n",
        "binary_conversion = []\n",
        "\n",
        "while input_number >= 1:\n",
        "    remainder = input_number % 2\n",
        "    binary_conversion.append(str(remainder))\n",
        "    input_number //= 2\n",
        "\n",
        "binary_conversion = ''.join(binary_conversion[::-1])\n",
        "print(f\"The binary conversion of {input_number} is: {binary_conversion}\")\n"
      ],
      "execution_count": 20,
      "outputs": [
        {
          "output_type": "stream",
          "name": "stdout",
          "text": [
            "Enter a positive decimal: 99.9\n",
            "The binary conversion of 0 is: 1100011\n"
          ]
        }
      ]
    },
    {
      "cell_type": "markdown",
      "metadata": {
        "id": "7Ysdu7UJ_qf8"
      },
      "source": [
        "**Congratulations! You finished this Assignment and completed Module 4!**"
      ]
    }
  ]
}